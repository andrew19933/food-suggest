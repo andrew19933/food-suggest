{
 "cells": [
  {
   "cell_type": "markdown",
   "id": "5df73ef4-ff94-4ffc-b76e-73f35e197ee5",
   "metadata": {
    "tags": []
   },
   "source": [
    "# Setup"
   ]
  },
  {
   "cell_type": "markdown",
   "id": "119dca52-8efb-4ee9-a511-7d3b6d50b212",
   "metadata": {
    "tags": []
   },
   "source": [
    "## imports"
   ]
  },
  {
   "cell_type": "code",
   "execution_count": 1,
   "id": "801c6429-7b66-4fed-9880-984cd0642f4a",
   "metadata": {},
   "outputs": [],
   "source": [
    "import tensorflow as tf\n",
    "import matplotlib.pyplot as plt\n",
    "import numpy as np\n",
    "import json\n",
    "\n",
    "import platform\n",
    "import time\n",
    "import pathlib\n",
    "import os"
   ]
  },
  {
   "cell_type": "markdown",
   "id": "953fec51-f769-4beb-93fa-06dcb0def82d",
   "metadata": {
    "tags": []
   },
   "source": [
    "## loadataset_stringified"
   ]
  },
  {
   "cell_type": "code",
   "execution_count": 3,
   "id": "9563ee8c-0dd1-4764-acbc-2e3a459f794b",
   "metadata": {},
   "outputs": [],
   "source": [
    "def load_dataset(silent=False):\n",
    "    # List of dataset files we want to merge\n",
    "    dataset_file_names = [\n",
    "        'recipes_raw_nosource_ar.json',\n",
    "        'recipes_raw_nosource_epi.json',\n",
    "        'recipes_raw_nosource_fn.json',\n",
    "    ]\n",
    "    \n",
    "    dataset = []\n",
    "    \n",
    "    for dataset_file_name in dataset_file_names:\n",
    "        dataset_file_path = f'./datasets/recipes_raw/{dataset_file_name}'\n",
    "        \n",
    "        with open(dataset_file_path) as dataset_file:\n",
    "            json_data_dict = json.load(dataset_file)\n",
    "            json_data_list = list(json_data_dict.values())\n",
    "            dict_keys = [key for key in json_data_list[0]]\n",
    "            dict_keys.sort()\n",
    "            dataset += json_data_list\n",
    "            \n",
    "            # This code block outputs a summary for each dataset.\n",
    "            if silent == False:\n",
    "                print(dataset_file_path)\n",
    "                print('===========================================')\n",
    "                print('Number of examples: ', len(json_data_list), '\\n')\n",
    "                print('Example object keys:\\n', dict_keys, '\\n')\n",
    "                print('Example object:\\n', json_data_list[0], '\\n')\n",
    "                print('Required keys:\\n')\n",
    "                print('  ingredients: ', json_data_list[0]['ingredients'])\n",
    "                print('\\n\\n')\n",
    "\n",
    "    return dataset  "
   ]
  },
  {
   "cell_type": "markdown",
   "id": "a3088904-698f-4187-ac1a-ff2f282a2371",
   "metadata": {},
   "source": [
    "<code>dataset_raw</code> contains all data, unadulterated"
   ]
  },
  {
   "cell_type": "code",
   "execution_count": 4,
   "id": "e8c69fd5-f3ed-4956-b07e-fe511a412754",
   "metadata": {},
   "outputs": [],
   "source": [
    "dataset_raw = load_dataset(silent=True)"
   ]
  },
  {
   "cell_type": "markdown",
   "id": "a7802de5-f7f0-4000-882d-91fd13eb11dd",
   "metadata": {
    "tags": []
   },
   "source": [
    "## preprocess data"
   ]
  },
  {
   "cell_type": "markdown",
   "id": "b4f3870c-54c5-47f8-a822-214719b94317",
   "metadata": {},
   "source": [
    "Checks if the entry contains a non-empty <code>ingredients</code> section"
   ]
  },
  {
   "cell_type": "code",
   "execution_count": 5,
   "id": "08fc4384-3b21-4c69-833a-90f0ffd32cd9",
   "metadata": {},
   "outputs": [],
   "source": [
    "def validate_required_fields(recipe):\n",
    "    required_keys = ['ingredients']\n",
    "    \n",
    "    # If recipe empty\n",
    "    if not recipe:\n",
    "        return False\n",
    "    \n",
    "    for required_key in required_keys:\n",
    "        # If there is no required_key entry in recipe\n",
    "        if not recipe[required_key]:\n",
    "            return False\n",
    "        \n",
    "        # If the required_key entry is an empty list\n",
    "        if type(recipe[required_key]) == list and len(recipe[required_key]) == 0:\n",
    "            return False\n",
    "        \n",
    "    return True"
   ]
  },
  {
   "cell_type": "markdown",
   "id": "f6d26d6c-9236-47c5-96cb-9aa1e9a89c42",
   "metadata": {},
   "source": [
    "<code>dataset_validated</code> only possesses recipe entries with a non-empty ingredients list"
   ]
  },
  {
   "cell_type": "code",
   "execution_count": 6,
   "id": "e198f20c-6efb-4c06-b301-f56d3e958fb7",
   "metadata": {},
   "outputs": [],
   "source": [
    "dataset_validated = [recipe for recipe in dataset_raw if validate_required_fields(recipe)]"
   ]
  },
  {
   "cell_type": "markdown",
   "id": "740e21b8-cb3e-44fa-850d-8e4d814ba1f6",
   "metadata": {},
   "source": [
    "<code>skim_and_string</code> returns the <code>ingredients</code> entry from a recipe, removes unwanted words and characters, and returns it as a string"
   ]
  },
  {
   "cell_type": "markdown",
   "id": "d0b0e54a-c3dc-48b9-a400-49b4f2e91afe",
   "metadata": {},
   "source": [
    "WARNING: this might remove parts of words that shouldn't be removed (e.g. drumstick --> drum)\n",
    "\n",
    "Improve this in the future\n",
    "\n",
    "Add extra logic to replace whitespace strings with just a single space"
   ]
  },
  {
   "cell_type": "code",
   "execution_count": 7,
   "id": "66d87b52-c0aa-401b-9c45-01d157925d12",
   "metadata": {},
   "outputs": [],
   "source": [
    "def skim_and_string(recipe):\n",
    "    word_blacklist = [\n",
    "        'ADVERTISEMENT',\n",
    "        'cups',\n",
    "        'cup',\n",
    "        'tablespoons',\n",
    "        'tablespoon',\n",
    "        'teaspoons',\n",
    "        'teaspoon',\n",
    "        'ounces',\n",
    "        'ounce',\n",
    "        'pounds',\n",
    "        'pound',\n",
    "        'packets',\n",
    "        'packet',\n",
    "        'pints ',\n",
    "        'pint ',\n",
    "        'quarts ',\n",
    "        'quart ',\n",
    "        'sprigs',\n",
    "        'sprig',\n",
    "        'sticks',\n",
    "        'stick',\n",
    "        'cans ',\n",
    "        'can ',\n",
    "        'inch ',\n",
    "        'optional',\n",
    "        'packages',\n",
    "        'package',\n",
    "        'plus ',\n",
    "        '0','1','2','3','4','5','6','7','8','9',\n",
    "        '/',\n",
    "        '-',\n",
    "        ' to ',\n",
    "        '(',\n",
    "        ')',\n",
    "        '.',\n",
    "        \"'\",\n",
    "        '®',\n",
    "        ':',\n",
    "        '™',\n",
    "        ';',\n",
    "        '&',\n",
    "        '%',\n",
    "        '*',\n",
    "        '\"',\n",
    "        '–',\n",
    "        '°',\n",
    "        'î',\n",
    "        '!',\n",
    "        '½',\n",
    "        '?',\n",
    "        '¿',\n",
    "        '=',\n",
    "        'ó',\n",
    "        '¼',\n",
    "        '>',\n",
    "        '#',\n",
    "        '<',\n",
    "        '’',\n",
    "        '—',\n",
    "        ']',\n",
    "        '[',\n",
    "        '¾',\n",
    "        '+',\n",
    "        '}',\n",
    "        '_',\n",
    "        '⁄',\n",
    "        '{',\n",
    "        '\\xad',\n",
    "        '|',\n",
    "        '$',\n",
    "        '‑',\n",
    "        '`',\n",
    "        '‚',\n",
    "        '\\\\',\n",
    "        '•',\n",
    "        '́',\n",
    "        '×',\n",
    "        'õ',\n",
    "        '@',\n",
    "        '�',\n",
    "        'ﬁ',\n",
    "        '‧',\n",
    "        '‟',\n",
    "        '‐',\n",
    "        '©',\n",
    "        '§',\n",
    "        'ﬂ',\n",
    "        '⅞',\n",
    "        '⅛',\n",
    "        '″',\n",
    "        '‱',\n",
    "        '”',\n",
    "        '¤',\n",
    "        '\\x96',\n",
    "        '~'\n",
    "    ]\n",
    "    \n",
    "    ingred_lists = recipe['ingredients']\n",
    "    \n",
    "    out = ''\n",
    "    for ingred_list in ingred_lists:\n",
    "        for bad_word in word_blacklist:\n",
    "            ingred_list = ingred_list.replace(bad_word, '')\n",
    "            \n",
    "        while ingred_list and ingred_list[0] == ' ':\n",
    "            ingred_list = ingred_list[1::]\n",
    "            \n",
    "        while ingred_list and (ingred_list[-1] == '\\n' or ingred_list[-1] == ' '):\n",
    "            ingred_list = ingred_list[:-1]\n",
    "        \n",
    "        if ingred_list:  # if non-empty\n",
    "            out += f'{ingred_list}\\n'\n",
    "            \n",
    "    return out"
   ]
  },
  {
   "cell_type": "markdown",
   "id": "2f0ee068-aa6a-4df0-805d-3c4dc6d12479",
   "metadata": {},
   "source": [
    "<code>dataset_stringified</code> is an array of cleaned up ingredients lists (strings)"
   ]
  },
  {
   "cell_type": "code",
   "execution_count": 8,
   "id": "339ff502-1e8a-4e43-9dba-eea251cd60ce",
   "metadata": {},
   "outputs": [],
   "source": [
    "dataset_stringified = [skim_and_string(recipe) for recipe in dataset_validated]"
   ]
  },
  {
   "cell_type": "code",
   "execution_count": 9,
   "id": "7f4833eb-64bc-4529-935f-6845d379d64c",
   "metadata": {},
   "outputs": [
    {
     "name": "stdout",
     "output_type": "stream",
     "text": [
      "['5 cups all-purpose flour, plus extra for board', '2 teaspoons baking powder', '1 teaspoon salt', '4 teaspoons dried thyme', '4 teaspoons dried sage', '4 sticks cold unsalted butter, cut into 1 tablespoon pieces', '12 to 16 tablespoons cold water', '3 tablespoons butter', '1 sweet onion, diced', '1 medium shallot, diced', '5 celery stalks, diced', '1/3 cup all-purpose flour', '4 cups hot chicken stock', '1 rotisserie chicken, meat removed and chopped', '2 cups frozen diced carrots and peas', '2 teaspoons dried sage', 'Salt and freshly ground black pepper', '1 egg, whisked, for egg wash', 'Special equipment: 4 (5-inch) aluminum pot pie pans', 'To prepare the crust:']\n",
      "\n",
      "allpurpose flour, extra for board\n",
      "baking powder\n",
      "salt\n",
      "dried thyme\n",
      "dried sage\n",
      "cold unsalted butter, cut into   pieces\n",
      "cold water\n",
      "butter\n",
      "sweet onion, diced\n",
      "medium shallot, diced\n",
      "celery stalks, diced\n",
      "allpurpose flour\n",
      "hot chicken stock\n",
      "rotisserie chicken, meat removed and chopped\n",
      "frozen diced carrots and peas\n",
      "dried sage\n",
      "Salt and freshly ground black pepper\n",
      "egg, whisked, for egg wash\n",
      "Special equipment  inch aluminum pot pie pans\n",
      "To prepare the crust\n",
      "\n"
     ]
    }
   ],
   "source": [
    "n = -52727\n",
    "print(dataset_validated[n]['ingredients'])\n",
    "print()\n",
    "print(dataset_stringified[n])"
   ]
  },
  {
   "cell_type": "markdown",
   "id": "1401afaa-715f-407f-944a-bc58a8e3443d",
   "metadata": {
    "jp-MarkdownHeadingCollapsed": true,
    "tags": []
   },
   "source": [
    "figuring out good choice of <code>MAX_INGREDIENT_LIST_LENGTH</code>"
   ]
  },
  {
   "cell_type": "code",
   "execution_count": 10,
   "id": "62efc68b-cd65-4089-81a4-4018bea9d007",
   "metadata": {},
   "outputs": [
    {
     "data": {
      "image/png": "[encoded data removed]",
      "text/plain": [
       "<Figure size 432x288 with 1 Axes>"
      ]
     },
     "metadata": {
      "needs_background": "light"
     },
     "output_type": "display_data"
    }
   ],
   "source": [
    "ingredient_list_lengths = []\n",
    "for ingred_test in dataset_stringified:\n",
    "    ingredient_list_lengths.append(len(ingred_test))\n",
    "    \n",
    "plt.hist(ingredient_list_lengths, bins = 50, range = (0,750))\n",
    "plt.show()"
   ]
  },
  {
   "cell_type": "code",
   "execution_count": 11,
   "id": "ed0382cb-3e4e-4ad8-80bc-ef5996ab6264",
   "metadata": {},
   "outputs": [],
   "source": [
    "MAX_INGREDIENT_LIST_LENGTH = 300"
   ]
  },
  {
   "cell_type": "markdown",
   "id": "a89312af-ac12-451b-a1ce-9d740d21648a",
   "metadata": {},
   "source": [
    "<code>dataset_truncated</code> is the subarray of ingredients strings that are shorter than <code>MAX_INGREDIENT_LIST_LENGTH</code>"
   ]
  },
  {
   "cell_type": "code",
   "execution_count": 12,
   "id": "d244be5d-822c-4c96-84ce-969241a20e4a",
   "metadata": {},
   "outputs": [],
   "source": [
    "# This can be taken care with tf layers automatically, but will figure that out later\n",
    "\n",
    "def filter_ingredients_list_by_length(ingred_list):\n",
    "    return len(ingred_list) < MAX_INGREDIENT_LIST_LENGTH\n",
    "\n",
    "dataset_truncated = [ingred_list for ingred_list in dataset_stringified\n",
    "                     if filter_ingredients_list_by_length(ingred_list)]"
   ]
  },
  {
   "cell_type": "code",
   "execution_count": 13,
   "id": "f53b5fde-a337-4440-80e0-001b805727b0",
   "metadata": {},
   "outputs": [],
   "source": [
    "STOP_CHAR = '␣'\n",
    "\n",
    "def pad_ingredients_list(ingred_list, pad_char):\n",
    "    if len(ingred_list) < MAX_INGREDIENT_LIST_LENGTH + 1:\n",
    "        ingred_list += (MAX_INGREDIENT_LIST_LENGTH + 1 - len(ingred_list))*STOP_CHAR\n",
    "    \n",
    "    return ingred_list"
   ]
  },
  {
   "cell_type": "markdown",
   "id": "b0580623-3480-4795-afa9-35f3ece8768d",
   "metadata": {},
   "source": [
    "<code>dataset_padded</code> contains the same data as <code>dataset_truncated</code> but with each entry padded to length <code>MAX_INGREDIENT_LIST_LENGTH</code> with <code>STOP_CHAR</code>'s"
   ]
  },
  {
   "cell_type": "code",
   "execution_count": 14,
   "id": "c0e067fb-9bc8-494f-8854-3532868dbc31",
   "metadata": {},
   "outputs": [],
   "source": [
    "dataset_padded = [pad_ingredients_list(elem, STOP_CHAR) for elem in dataset_truncated]"
   ]
  },
  {
   "cell_type": "markdown",
   "id": "b79e0cc3-0745-4b7f-8c91-bd1eed4099cc",
   "metadata": {
    "tags": []
   },
   "source": [
    "## tokenize, generate (data, label) pairs, and batch"
   ]
  },
  {
   "cell_type": "markdown",
   "id": "d961c60b-c9eb-4f64-884f-e6a7ef3d740b",
   "metadata": {},
   "source": [
    "Create vocab list for tokenizing. Currently we are tokenizing at the character level."
   ]
  },
  {
   "cell_type": "markdown",
   "id": "af311376-eb44-45b1-a668-0e747f142758",
   "metadata": {},
   "source": [
    "might want to split based on '\\n' so that dictionary consists of all possible ingredients (hopefully unique-ish). even better would be to use a dictionary of ingredients. might also want to 'generate' new data by shuffling the order of ingredients within recipes, since the order doesn't seem like a useful thing to remember"
   ]
  },
  {
   "cell_type": "code",
   "execution_count": 15,
   "id": "d926bdaf-18aa-42f6-b53b-fbe55d4bd716",
   "metadata": {},
   "outputs": [],
   "source": [
    "vocab = [entry for sublist in dataset_padded for entry in sublist]\n",
    "vocab.append(STOP_CHAR)\n",
    "vocab = sorted(set(vocab))"
   ]
  },
  {
   "cell_type": "code",
   "execution_count": 16,
   "id": "07667bd3-be10-4073-80b1-930ec84294f1",
   "metadata": {},
   "outputs": [],
   "source": [
    "# gets array of token IDs from a character array\n",
    "ids_from_chars = tf.keras.layers.StringLookup(\n",
    "    vocabulary=list(vocab),\n",
    "    mask_token=None,\n",
    ")\n",
    "\n",
    "# gets character array from array of token IDs\n",
    "chars_from_ids = tf.keras.layers.StringLookup(\n",
    "    vocabulary=list(vocab),\n",
    "    mask_token=None,\n",
    "    invert=True\n",
    ")\n",
    "\n",
    "# can pass output of chars_from_ids into here to get nicely formatted string\n",
    "def str_from_char_array(char_array):\n",
    "    return tf.strings.join(char_array).numpy().decode('utf-8')\n",
    "\n",
    "# token ID of STOP_CHAR\n",
    "STOP_CHAR_ID = ids_from_chars(STOP_CHAR).numpy()"
   ]
  },
  {
   "cell_type": "markdown",
   "id": "6b168be0-383a-4ac7-9187-b9696090c306",
   "metadata": {},
   "source": [
    "<code>all_ids</code> is Tensor of tokenized entries from <code>dataset_padded</code>"
   ]
  },
  {
   "cell_type": "code",
   "execution_count": 17,
   "id": "de4d3356-02f5-4cd5-bed9-ae75b43bda0a",
   "metadata": {},
   "outputs": [],
   "source": [
    "all_ids = ids_from_chars(tf.strings.unicode_split(dataset_padded, 'UTF-8')).to_tensor()\n",
    "# all_ids_numpy = all_ids.numpy()\n",
    "\n",
    "# uses depricated function\n",
    "# tokenizer = tf.keras.preprocessing.text.Tokenizer(\n",
    "#     char_level=True,\n",
    "#     filters='',\n",
    "#     split=''\n",
    "# )\n",
    "\n",
    "# tokenizer.fit_on_texts([STOP_CHAR])\n",
    "# tokenizer.fit_on_texts(dataset_truncated)\n",
    "\n",
    "# look up with TextVectorization is more useful than StringLookup\n",
    "# vectorize_layer = tf.keras.layers.TextVectorization(\n",
    "#     split='character',\n",
    "#     standardize='lower'\n",
    "# )\n",
    "\n",
    "# vectorize_layer.adapt(dataset_truncated)\n",
    "\n",
    "# temp_model = tf.keras.models.Sequential()\n",
    "# temp_model.add(tf.keras.Input(shape=(1,), dtype=tf.string))\n",
    "# temp_model.add(vectorize_layer)\n",
    "\n",
    "# temp_model.predict([['-blskd'], ['pastaaaa']])"
   ]
  },
  {
   "cell_type": "markdown",
   "id": "9014d04d-13fa-4857-a26f-beef395d5d64",
   "metadata": {},
   "source": [
    "<code>dataset_tokenized</code> is similar to <code>all_ids</code> but in proper datatype, or something"
   ]
  },
  {
   "cell_type": "code",
   "execution_count": 18,
   "id": "0f2b13d8-8bc3-4a7f-a929-9a2b3923cb1e",
   "metadata": {},
   "outputs": [],
   "source": [
    "dataset_tokenized = tf.data.Dataset.from_tensor_slices(all_ids)"
   ]
  },
  {
   "cell_type": "code",
   "execution_count": 136,
   "id": "799e33fc-fe4c-4721-9bc5-f53bcd6137ae",
   "metadata": {},
   "outputs": [],
   "source": [
    "# old ateempt at padding using tf APIs\n",
    "# below code doesn't quite work (works on each element (.take(1)) of dataset_ids)\n",
    "\n",
    "# dataset_ids_padded = tf.pad(\n",
    "#     dataset_ids,\n",
    "#     tf.constant([[0,max(200,0)]]),\n",
    "#     'CONSTANT',\n",
    "#     constant_values=STOP_CHAR_ID\n",
    "# )"
   ]
  },
  {
   "cell_type": "markdown",
   "id": "fe3dc5de-e9dd-4e78-bc02-44a55361debe",
   "metadata": {},
   "source": [
    "<code>split_input_target</code> takes in a string of length <code>n+1</code> and outputs a tuple of length-<code>n</code> arrays used for training next-character prediction"
   ]
  },
  {
   "cell_type": "code",
   "execution_count": 19,
   "id": "6eb1a0b2-06f4-43f8-abe2-63e1439e7e99",
   "metadata": {},
   "outputs": [],
   "source": [
    "def split_input_target(sequence):\n",
    "    return sequence[:-1], sequence[1:]"
   ]
  },
  {
   "cell_type": "markdown",
   "id": "9c832346-0019-4b29-8160-abf6cd8b14f3",
   "metadata": {},
   "source": [
    "<code>dataset</code> is array of tuples created from <code>dataset_tokenized</code> prepared for training the next-character prediction model"
   ]
  },
  {
   "cell_type": "code",
   "execution_count": 20,
   "id": "7c9cb561-9175-4e30-9a4d-2e86324f5885",
   "metadata": {},
   "outputs": [],
   "source": [
    "dataset = dataset_tokenized.map(split_input_target)"
   ]
  },
  {
   "cell_type": "markdown",
   "id": "c17cdcdb-7707-4932-acd4-ea426dbb177b",
   "metadata": {},
   "source": [
    "<code>dataset_train</code> is an object that shuffles the order of <code>dataset</code> and returns a batch of training examples of size <code>BATCH_SIZE</code>. Calling <code>.repeat()</code> makes it so that this object can be called indefinetly (i.e. doesn't 'pop off' elements)."
   ]
  },
  {
   "cell_type": "code",
   "execution_count": 21,
   "id": "a5401731-6f58-4e2c-a0e6-5609e539a602",
   "metadata": {},
   "outputs": [],
   "source": [
    "BATCH_SIZE = 64\n",
    "SHUFFLE_BUFFER_SIZE = 1000  # used so that we don't have to shuffle entire dataset at once\n",
    "\n",
    "dataset_train = dataset\\\n",
    "    .shuffle(SHUFFLE_BUFFER_SIZE)\\\n",
    "    .batch(BATCH_SIZE, drop_remainder=True)\\\n",
    "    .repeat()"
   ]
  },
  {
   "cell_type": "markdown",
   "id": "d8ed3233-2c99-4308-b772-96f06519e952",
   "metadata": {
    "tags": []
   },
   "source": [
    "# build model"
   ]
  },
  {
   "cell_type": "markdown",
   "id": "8f44c3e5-4621-4bbe-80ff-507e24999d9b",
   "metadata": {
    "tags": []
   },
   "source": [
    "## construct model"
   ]
  },
  {
   "cell_type": "markdown",
   "id": "bd3ab9a4-cca5-4005-a34a-2316122b868c",
   "metadata": {},
   "source": [
    "Builds a model consisting of an embedding layer, followed by a LSTM layer, followed by a dense output layer"
   ]
  },
  {
   "cell_type": "markdown",
   "id": "2d719894-38d1-40c1-a37e-b6484a25b2bb",
   "metadata": {},
   "source": [
    "figure out how <code>embedding_dim</code> should compare to <code>vocab_size</code>"
   ]
  },
  {
   "cell_type": "code",
   "execution_count": 22,
   "id": "facf4530-55f8-4d6c-84d4-86c6226dbd05",
   "metadata": {},
   "outputs": [
    {
     "name": "stdout",
     "output_type": "stream",
     "text": [
      "Model: \"sequential\"\n",
      "_________________________________________________________________\n",
      " Layer (type)                Output Shape              Param #   \n",
      "=================================================================\n",
      " embedding (Embedding)       (64, None, 128)           9856      \n",
      "                                                                 \n",
      " lstm (LSTM)                 (64, None, 1024)          4722688   \n",
      "                                                                 \n",
      " dense (Dense)               (64, None, 77)            78925     \n",
      "                                                                 \n",
      "=================================================================\n",
      "Total params: 4,811,469\n",
      "Trainable params: 4,811,469\n",
      "Non-trainable params: 0\n",
      "_________________________________________________________________\n"
     ]
    }
   ],
   "source": [
    "def build_model(vocab_size, embedding_dim, rnn_units, batch_size):\n",
    "    model = tf.keras.models.Sequential()\n",
    "    \n",
    "    # embedding layer is for learning dense vector representations of int-encoded input characters\n",
    "    model.add(tf.keras.layers.Embedding(  # input is tensor with shape (batch_size, input_length)\n",
    "        input_dim=vocab_size,\n",
    "        output_dim=embedding_dim,\n",
    "        batch_input_shape=[batch_size, None]  # can't find this in the API documentation...\n",
    "    ))\n",
    "    \n",
    "    # essentially the RNN layer, I think\n",
    "    model.add(tf.keras.layers.LSTM(\n",
    "        units=rnn_units,\n",
    "        return_sequences=True,\n",
    "        stateful=True,\n",
    "        recurrent_initializer=tf.keras.initializers.GlorotNormal()\n",
    "    ))\n",
    "    \n",
    "    # one-vs-many output layer\n",
    "    model.add(tf.keras.layers.Dense(vocab_size))\n",
    "    \n",
    "    return model\n",
    "\n",
    "model = build_model(\n",
    "    vocab_size=len(vocab)+1,  # +1 for the reserved index 0\n",
    "    embedding_dim=128,  # unsure if this should be larger than vocab_size or less than it...\n",
    "    rnn_units=1024,\n",
    "    batch_size=BATCH_SIZE\n",
    ")\n",
    "\n",
    "model.summary()"
   ]
  },
  {
   "cell_type": "markdown",
   "id": "45761f6a-2daa-4ad0-8530-c698718d8a98",
   "metadata": {},
   "source": [
    "Define <code>loss</code> function using <code>sparse_categorical_crossentropy</code>"
   ]
  },
  {
   "cell_type": "code",
   "execution_count": 23,
   "id": "f7643ff8-7093-4c44-9890-fe8aacbfaab8",
   "metadata": {},
   "outputs": [],
   "source": [
    "def loss(labels, logits):\n",
    "    entropy = tf.keras.losses.sparse_categorical_crossentropy(\n",
    "        y_true=labels,\n",
    "        y_pred=logits,\n",
    "        from_logits=True  # states that y_pred is a logits tensor instead of a probability distribution\n",
    "    )\n",
    "    \n",
    "    return entropy"
   ]
  },
  {
   "cell_type": "markdown",
   "id": "e783e1a8-744b-4702-a7ed-b6eab7ef8886",
   "metadata": {},
   "source": [
    "compile the model"
   ]
  },
  {
   "cell_type": "code",
   "execution_count": 24,
   "id": "2633689f-add2-43f8-b53b-920c975aa534",
   "metadata": {},
   "outputs": [],
   "source": [
    "model.compile(\n",
    "    optimizer=tf.keras.optimizers.Adam(learning_rate=.01),\n",
    "    loss=loss\n",
    ")"
   ]
  },
  {
   "cell_type": "markdown",
   "id": "061e3d5b-c874-4edb-ad89-ce8a9a272850",
   "metadata": {},
   "source": [
    "<code>early_stopping_callback</code> will stop training if model isn't improving after stated number of epochs"
   ]
  },
  {
   "cell_type": "code",
   "execution_count": 25,
   "id": "b8507885-111b-4825-a070-9ab0ff6faec7",
   "metadata": {},
   "outputs": [],
   "source": [
    "early_stopping_callback = tf.keras.callbacks.EarlyStopping(\n",
    "    patience=3,  # number of epochs\n",
    "    monitor='loss',  # quantity to monitor\n",
    "    restore_best_weights=True,  # use weights from before improvement plateaued\n",
    "    verbose=1  # be verbose\n",
    ")"
   ]
  },
  {
   "cell_type": "code",
   "execution_count": 26,
   "id": "86a6400e-9131-4a06-952b-3e53bc99c825",
   "metadata": {},
   "outputs": [],
   "source": [
    "# Create a checkpoints directory\n",
    "checkpoint_dir = 'tmp/checkpoints'\n",
    "os.makedirs(checkpoint_dir, exist_ok=True)\n",
    "\n",
    "checkpoint_prefix = os.path.join(checkpoint_dir, 'ckpt_{epoch}')\n",
    "checkpoint_callback=tf.keras.callbacks.ModelCheckpoint(\n",
    "    filepath=checkpoint_prefix,\n",
    "    save_weights_only=True\n",
    ")"
   ]
  },
  {
   "cell_type": "markdown",
   "id": "0affbab9-8ef6-462b-99f1-da6e123a32f9",
   "metadata": {
    "tags": []
   },
   "source": [
    "## train model"
   ]
  },
  {
   "cell_type": "code",
   "execution_count": 27,
   "id": "ec5c7f67-d0ad-446b-8316-5ea6f8fee487",
   "metadata": {},
   "outputs": [],
   "source": [
    "EPOCHS = 10\n",
    "INITIAL_EPOCH = 0\n",
    "STEPS_PER_EPOCH = 15  # i.e. number of batched per epoch"
   ]
  },
  {
   "cell_type": "code",
   "execution_count": 150,
   "id": "80787b20-4dd7-4095-9667-4056718de670",
   "metadata": {},
   "outputs": [
    {
     "name": "stdout",
     "output_type": "stream",
     "text": [
      "Epoch 1/10\n",
      "15/15 [==============================] - 85s 6s/step - loss: 3.6695\n",
      "Epoch 2/10\n",
      "15/15 [==============================] - 85s 6s/step - loss: 1.7265\n",
      "Epoch 3/10\n",
      "15/15 [==============================] - 86s 6s/step - loss: 1.4381\n",
      "Epoch 4/10\n",
      "15/15 [==============================] - 87s 6s/step - loss: 1.2644\n",
      "Epoch 5/10\n",
      "15/15 [==============================] - 88s 6s/step - loss: 1.0673\n",
      "Epoch 6/10\n",
      "15/15 [==============================] - 89s 6s/step - loss: 0.9014\n",
      "Epoch 7/10\n",
      "15/15 [==============================] - 109s 7s/step - loss: 0.7683\n",
      "Epoch 8/10\n",
      "15/15 [==============================] - 110s 7s/step - loss: 0.6417\n",
      "Epoch 9/10\n",
      "15/15 [==============================] - 110s 7s/step - loss: 0.5341\n",
      "Epoch 10/10\n",
      "15/15 [==============================] - 111s 7s/step - loss: 0.4932\n"
     ]
    }
   ],
   "source": [
    "history = model.fit(\n",
    "    x=dataset_train,\n",
    "    epochs=EPOCHS,\n",
    "    steps_per_epoch=STEPS_PER_EPOCH,\n",
    "    initial_epoch=INITIAL_EPOCH,\n",
    "    callbacks=[\n",
    "        checkpoint_callback,\n",
    "        early_stopping_callback\n",
    "    ]\n",
    ")\n",
    "\n",
    "# Saving the trained model to file (to be able to re-use it later).\n",
    "model_name = 'next_ingred_rnn_raw.h5'\n",
    "model.save(model_name, save_format='h5')"
   ]
  },
  {
   "cell_type": "markdown",
   "id": "a5a3ed59-bf8c-46d1-a686-c93e786efeec",
   "metadata": {
    "jp-MarkdownHeadingCollapsed": true,
    "tags": []
   },
   "source": [
    "## evaluate model"
   ]
  },
  {
   "cell_type": "code",
   "execution_count": 176,
   "id": "8a87c4d4-e9b5-4a07-887f-5eed1b8eabeb",
   "metadata": {},
   "outputs": [
    {
     "data": {
      "image/png": "[encoded data removed]",
      "text/plain": [
       "<Figure size 432x288 with 1 Axes>"
      ]
     },
     "metadata": {
      "needs_background": "light"
     },
     "output_type": "display_data"
    }
   ],
   "source": [
    "def render_training_history(training_history):\n",
    "    loss = training_history.history['loss']\n",
    "\n",
    "    plt.title('Loss')\n",
    "    plt.xlabel('Epoch')\n",
    "    plt.ylabel('Loss')\n",
    "    plt.plot(loss, label='Training set')\n",
    "    plt.legend()\n",
    "    plt.grid(linestyle='--', linewidth=1, alpha=0.5)\n",
    "    plt.show()\n",
    "\n",
    "render_training_history(history)"
   ]
  },
  {
   "cell_type": "markdown",
   "id": "5b579da0-7ad9-4bd1-931d-e15ab4d16ec2",
   "metadata": {
    "tags": []
   },
   "source": [
    "# make predictions"
   ]
  },
  {
   "cell_type": "markdown",
   "id": "87db1f26-e116-4d97-a877-35475eb8584c",
   "metadata": {
    "tags": []
   },
   "source": [
    "## load/create generative model and function"
   ]
  },
  {
   "cell_type": "markdown",
   "id": "fb4c0afd-cd4d-407d-bd17-35c38a53fade",
   "metadata": {},
   "source": [
    "Since we only want to feed in a single ingredient list that we want it to suggest additions to, we need to rebuild the model with a batchsize of 1, otherwise it would require we feed it BATCH_SIZE lists."
   ]
  },
  {
   "cell_type": "code",
   "execution_count": 28,
   "id": "463ebef1-e680-4969-a2e8-564d7a08e5e3",
   "metadata": {},
   "outputs": [
    {
     "name": "stdout",
     "output_type": "stream",
     "text": [
      "Model: \"sequential_1\"\n",
      "_________________________________________________________________\n",
      " Layer (type)                Output Shape              Param #   \n",
      "=================================================================\n",
      " embedding_1 (Embedding)     (1, None, 128)            9856      \n",
      "                                                                 \n",
      " lstm_1 (LSTM)               (1, None, 1024)           4722688   \n",
      "                                                                 \n",
      " dense_1 (Dense)             (1, None, 77)             78925     \n",
      "                                                                 \n",
      "=================================================================\n",
      "Total params: 4,811,469\n",
      "Trainable params: 4,811,469\n",
      "Non-trainable params: 0\n",
      "_________________________________________________________________\n"
     ]
    }
   ],
   "source": [
    "simplified_batch_size = 1\n",
    "\n",
    "model_simplified = build_model(\n",
    "    len(vocab)+1,\n",
    "    embedding_dim=128,\n",
    "    rnn_units=1024,\n",
    "    batch_size=simplified_batch_size)\n",
    "\n",
    "# load learned weights from saved training model\n",
    "model_simplified.load_weights('./next_ingred_rnn_raw.h5')\n",
    "\n",
    "# ---------- OR ----------\n",
    "# load learned weights from last checkpoint\n",
    "# model_simplified.load_weights(tf.train.latest_checkpoint(checkpoint_dir))\n",
    "\n",
    "model_simplified.build(tf.TensorShape([simplified_batch_size, None]))  # can't find .build() method in the API docs...\n",
    "\n",
    "model_simplified.summary()"
   ]
  },
  {
   "cell_type": "markdown",
   "id": "054e2ec0-6094-4bd1-80c6-8abf4fdbd1b0",
   "metadata": {},
   "source": [
    "Note on the <code>tf.random.categorical()</code> line: current understanding is that the output of dense layer should be interpereted as (possibly unnormalized) log-probabilities of what the next character should be. Instead of simply returning the character corresponding to the argmax, we'd like to sample from this probability distribution so that our model doesn't always return the same thing each time (i.e. isn't determininistic). I think we control 'how deterministic' our model will be via the <code>temperature</code> parameter."
   ]
  },
  {
   "cell_type": "markdown",
   "id": "220006a2-7f48-4d85-aed2-b06221c67539",
   "metadata": {},
   "source": [
    "Pretty sure <code>tf.random.categorical</code> is the same as sampling from a discrete distribution, but with the input as log-probabilities instead of the PMF."
   ]
  },
  {
   "cell_type": "markdown",
   "id": "24320543-6f90-43a9-b22e-fed448b48dda",
   "metadata": {},
   "source": [
    "Question: do when calling the model a second time, do we only need to supply the next character? or the whole string with that character appended?"
   ]
  },
  {
   "cell_type": "code",
   "execution_count": 29,
   "id": "792a06fd-95bd-474f-99a8-0cf3a6c3d054",
   "metadata": {},
   "outputs": [],
   "source": [
    "def generate_text(model, start_string, num_generate=40, temperature=1.0):\n",
    "    # tokenize start_string\n",
    "    input_indices = ids_from_chars(tf.strings.unicode_split(start_string, 'UTF-8'))\n",
    "\n",
    "    generated_text = []\n",
    "\n",
    "    # batch size = 1\n",
    "    model.reset_states()\n",
    "    for char_index in range(num_generate):\n",
    "        predictions = model(tf.expand_dims(input_indices, 0))  # need to expand so this is a batch of size 1\n",
    "        \n",
    "        # remove the batch dimension\n",
    "        predictions = tf.squeeze(predictions, 0)\n",
    "\n",
    "        # use categorical distribution to predict the next character\n",
    "        predictions = predictions / temperature\n",
    "        predicted_id = tf.random.categorical(\n",
    "            predictions,\n",
    "            num_samples=1\n",
    "        )[-1, 0].numpy()\n",
    "\n",
    "        # pass predicted character as the next input to the model along with previous hidden state\n",
    "        input_indices = tf.expand_dims([predicted_id], 0)\n",
    "        \n",
    "        next_character = str_from_char_array(chars_from_ids(input_indices[0]))\n",
    "\n",
    "        generated_text.append(next_character)\n",
    "\n",
    "    return(start_string + ''.join(generated_text))"
   ]
  },
  {
   "cell_type": "markdown",
   "id": "7ccaa622-8e72-43f3-9969-4311905306a0",
   "metadata": {},
   "source": [
    "## output"
   ]
  },
  {
   "cell_type": "code",
   "execution_count": 48,
   "id": "db18206f-9fd6-4aa9-9307-a53dae71fd9a",
   "metadata": {},
   "outputs": [
    {
     "name": "stdout",
     "output_type": "stream",
     "text": [
      "eggs\n",
      "flour\n",
      "baking soda\n",
      "salt\n",
      "eggs\n",
      "vanilla extract\n",
      "␣␣␣␣␣␣␣␣␣␣␣␣␣␣␣␣␣␣␣␣␣␣␣␣␣␣␣␣␣␣␣␣␣␣␣␣␣␣␣␣␣␣␣␣␣␣␣␣␣␣␣␣␣␣␣␣␣␣␣␣␣␣\n"
     ]
    }
   ],
   "source": [
    "print(generate_text(model_simplified, 'eggs\\nflour\\n', num_generate=100, temperature=.7))"
   ]
  },
  {
   "cell_type": "code",
   "execution_count": null,
   "id": "6c4ffbc5-9283-4e62-bfaf-e3e6f74edb7c",
   "metadata": {},
   "outputs": [],
   "source": []
  }
 ],
 "metadata": {
  "kernelspec": {
   "display_name": "Python 3 (ipykernel)",
   "language": "python",
   "name": "python3"
  },
  "language_info": {
   "codemirror_mode": {
    "name": "ipython",
    "version": 3
   },
   "file_extension": ".py",
   "mimetype": "text/x-python",
   "name": "python",
   "nbconvert_exporter": "python",
   "pygments_lexer": "ipython3",
   "version": "3.10.5"
  }
 },
 "nbformat": 4,
 "nbformat_minor": 5
}
