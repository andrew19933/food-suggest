{
 "cells": [
  {
   "cell_type": "code",
   "execution_count": 100,
   "id": "022c054c-0560-4236-835b-3d5da7b04415",
   "metadata": {},
   "outputs": [],
   "source": [
    "import requests\n",
    "from bs4 import BeautifulSoup\n",
    "import re\n",
    "import unidecode"
   ]
  },
  {
   "cell_type": "markdown",
   "id": "88f7715d-6809-4e0d-bcca-4bec9f3e09fe",
   "metadata": {},
   "source": [
    "# From https://git.macropus.org/bbc-food/www.bbc.co.uk/food/ingredients/by/letter/a.html"
   ]
  },
  {
   "cell_type": "markdown",
   "id": "59556ffd-cc48-4a2c-87d0-2ff97234b0ab",
   "metadata": {},
   "source": [
    "Warning: has British spellings of words (e.g. yoghurt vs yogurt)"
   ]
  },
  {
   "cell_type": "code",
   "execution_count": 103,
   "id": "ff9273ab-b877-4c0b-8b3f-2e08b58514b5",
   "metadata": {},
   "outputs": [
    {
     "name": "stdout",
     "output_type": "stream",
     "text": [
      "Processing URL: https://git.macropus.org/bbc-food/www.bbc.co.uk/food/ingredients/by/letter/a.html\n",
      "Processing URL: https://git.macropus.org/bbc-food/www.bbc.co.uk/food/ingredients/by/letter/b.html\n",
      "Processing URL: https://git.macropus.org/bbc-food/www.bbc.co.uk/food/ingredients/by/letter/c.html\n",
      "Processing URL: https://git.macropus.org/bbc-food/www.bbc.co.uk/food/ingredients/by/letter/d.html\n",
      "Processing URL: https://git.macropus.org/bbc-food/www.bbc.co.uk/food/ingredients/by/letter/e.html\n",
      "Processing URL: https://git.macropus.org/bbc-food/www.bbc.co.uk/food/ingredients/by/letter/f.html\n",
      "Processing URL: https://git.macropus.org/bbc-food/www.bbc.co.uk/food/ingredients/by/letter/g.html\n",
      "Processing URL: https://git.macropus.org/bbc-food/www.bbc.co.uk/food/ingredients/by/letter/h.html\n",
      "Processing URL: https://git.macropus.org/bbc-food/www.bbc.co.uk/food/ingredients/by/letter/i.html\n",
      "Processing URL: https://git.macropus.org/bbc-food/www.bbc.co.uk/food/ingredients/by/letter/j.html\n",
      "Processing URL: https://git.macropus.org/bbc-food/www.bbc.co.uk/food/ingredients/by/letter/k.html\n",
      "Processing URL: https://git.macropus.org/bbc-food/www.bbc.co.uk/food/ingredients/by/letter/l.html\n",
      "Processing URL: https://git.macropus.org/bbc-food/www.bbc.co.uk/food/ingredients/by/letter/m.html\n",
      "Processing URL: https://git.macropus.org/bbc-food/www.bbc.co.uk/food/ingredients/by/letter/n.html\n",
      "Processing URL: https://git.macropus.org/bbc-food/www.bbc.co.uk/food/ingredients/by/letter/o.html\n",
      "Processing URL: https://git.macropus.org/bbc-food/www.bbc.co.uk/food/ingredients/by/letter/p.html\n",
      "Processing URL: https://git.macropus.org/bbc-food/www.bbc.co.uk/food/ingredients/by/letter/q.html\n",
      "Processing URL: https://git.macropus.org/bbc-food/www.bbc.co.uk/food/ingredients/by/letter/r.html\n",
      "Processing URL: https://git.macropus.org/bbc-food/www.bbc.co.uk/food/ingredients/by/letter/s.html\n",
      "Processing URL: https://git.macropus.org/bbc-food/www.bbc.co.uk/food/ingredients/by/letter/t.html\n",
      "Processing URL: https://git.macropus.org/bbc-food/www.bbc.co.uk/food/ingredients/by/letter/u.html\n",
      "Processing URL: https://git.macropus.org/bbc-food/www.bbc.co.uk/food/ingredients/by/letter/v.html\n",
      "Processing URL: https://git.macropus.org/bbc-food/www.bbc.co.uk/food/ingredients/by/letter/w.html\n",
      "Processing URL: https://git.macropus.org/bbc-food/www.bbc.co.uk/food/ingredients/by/letter/x.html\n",
      "No ingredients found on: https://git.macropus.org/bbc-food/www.bbc.co.uk/food/ingredients/by/letter/x.html\n",
      "Processing URL: https://git.macropus.org/bbc-food/www.bbc.co.uk/food/ingredients/by/letter/y.html\n",
      "Processing URL: https://git.macropus.org/bbc-food/www.bbc.co.uk/food/ingredients/by/letter/z.html\n"
     ]
    }
   ],
   "source": [
    "OUTFILE = 'vocabs/ingredient_list_BBC.txt'\n",
    "\n",
    "with open(OUTFILE, 'w') as f:\n",
    "    for letter in range(97,97+26):  # itterate over letters a through z\n",
    "        url = 'https://git.macropus.org/bbc-food/www.bbc.co.uk/food/ingredients/by/letter/' + chr(letter) + '.html'\n",
    "        print(f'Processing URL: {url}')\n",
    "        \n",
    "        source_HTML = requests.get(url, 'html.parser')\n",
    "        soup = BeautifulSoup(source_HTML.text, 'html.parser')\n",
    "        ingred_list = soup.find_all(class_='resource food')\n",
    "        \n",
    "        if len(ingred_list) == 0:\n",
    "            print(f'No ingredients found on: {url}')\n",
    "            continue\n",
    "        \n",
    "        for ingred in ingred_list:\n",
    "            ingred_formatted = ingred.a.img['alt']\n",
    "            ingred_formatted = unidecode.unidecode(ingred_formatted)\n",
    "            ingred_formatted = ingred_formatted.lower()\n",
    "            ingred_formatted = re.sub(' +', ' ', ingred_formatted)\n",
    "            # print(ingred_formatted)\n",
    "            \n",
    "            f.write(ingred_formatted)\n",
    "            f.write('\\n')\n",
    "    \n",
    "    f.close()"
   ]
  }
 ],
 "metadata": {
  "kernelspec": {
   "display_name": "Python 3 (ipykernel)",
   "language": "python",
   "name": "python3"
  },
  "language_info": {
   "codemirror_mode": {
    "name": "ipython",
    "version": 3
   },
   "file_extension": ".py",
   "mimetype": "text/x-python",
   "name": "python",
   "nbconvert_exporter": "python",
   "pygments_lexer": "ipython3",
   "version": "3.10.5"
  }
 },
 "nbformat": 4,
 "nbformat_minor": 5
}
