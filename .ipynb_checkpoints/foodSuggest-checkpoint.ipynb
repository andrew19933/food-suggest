{
 "cells": [
  {
   "cell_type": "markdown",
   "id": "5df73ef4-ff94-4ffc-b76e-73f35e197ee5",
   "metadata": {
    "id": "5df73ef4-ff94-4ffc-b76e-73f35e197ee5",
    "pycharm": {
     "name": "#%% md\n"
    },
    "tags": []
   },
   "source": [
    "# Setup"
   ]
  },
  {
   "cell_type": "markdown",
   "id": "119dca52-8efb-4ee9-a511-7d3b6d50b212",
   "metadata": {
    "id": "119dca52-8efb-4ee9-a511-7d3b6d50b212",
    "jp-MarkdownHeadingCollapsed": true,
    "pycharm": {
     "name": "#%% md\n"
    },
    "tags": []
   },
   "source": [
    "## imports"
   ]
  },
  {
   "cell_type": "code",
   "execution_count": 1,
   "id": "801c6429-7b66-4fed-9880-984cd0642f4a",
   "metadata": {
    "colab": {
     "base_uri": "https://localhost:8080/"
    },
    "executionInfo": {
     "elapsed": 12409,
     "status": "ok",
     "timestamp": 1657603418115,
     "user": {
      "displayName": "Andrew Ballin",
      "userId": "14037039566695543818"
     },
     "user_tz": 420
    },
    "id": "801c6429-7b66-4fed-9880-984cd0642f4a",
    "outputId": "789443af-fc2d-4267-b1bc-6a93d6619d6a",
    "pycharm": {
     "name": "#%%\n"
    }
   },
   "outputs": [],
   "source": [
    "import tensorflow as tf\n",
    "import matplotlib.pyplot as plt\n",
    "import numpy as np\n",
    "import json\n",
    "# !pip install unidecode\n",
    "import unidecode\n",
    "import re\n",
    "import random\n",
    "import os\n",
    "\n",
    "from itertools import combinations"
   ]
  },
  {
   "cell_type": "markdown",
   "id": "dPaf8YwZhkKR",
   "metadata": {
    "id": "dPaf8YwZhkKR",
    "pycharm": {
     "name": "#%% md\n"
    }
   },
   "source": [
    "execute if running on Google Colab"
   ]
  },
  {
   "cell_type": "code",
   "execution_count": null,
   "id": "UP7E4nRvhgsP",
   "metadata": {
    "colab": {
     "base_uri": "https://localhost:8080/"
    },
    "executionInfo": {
     "elapsed": 17240,
     "status": "ok",
     "timestamp": 1657603435347,
     "user": {
      "displayName": "Andrew Ballin",
      "userId": "14037039566695543818"
     },
     "user_tz": 420
    },
    "id": "UP7E4nRvhgsP",
    "outputId": "547eb4fc-7c1f-4ae0-ad27-47310cbe71f4",
    "pycharm": {
     "name": "#%%\n"
    }
   },
   "outputs": [],
   "source": [
    "from google.colab import drive\n",
    "drive.mount('/content/drive')"
   ]
  },
  {
   "cell_type": "markdown",
   "id": "953fec51-f769-4beb-93fa-06dcb0def82d",
   "metadata": {
    "id": "953fec51-f769-4beb-93fa-06dcb0def82d",
    "jp-MarkdownHeadingCollapsed": true,
    "pycharm": {
     "name": "#%% md\n"
    },
    "tags": []
   },
   "source": [
    "## loadataset_stringified\n",
    "\n"
   ]
  },
  {
   "cell_type": "code",
   "execution_count": 2,
   "id": "9563ee8c-0dd1-4764-acbc-2e3a459f794b",
   "metadata": {
    "executionInfo": {
     "elapsed": 10,
     "status": "ok",
     "timestamp": 1657603435347,
     "user": {
      "displayName": "Andrew Ballin",
      "userId": "14037039566695543818"
     },
     "user_tz": 420
    },
    "id": "9563ee8c-0dd1-4764-acbc-2e3a459f794b",
    "pycharm": {
     "name": "#%%\n"
    }
   },
   "outputs": [],
   "source": [
    "def load_dataset(silent=False, gColab=False):\n",
    "    # List of dataset files we want to merge\n",
    "    dataset_file_names = [\n",
    "        'recipes_raw_nosource_ar.json',\n",
    "        'recipes_raw_nosource_epi.json',\n",
    "        'recipes_raw_nosource_fn.json',\n",
    "    ]\n",
    "    \n",
    "    dataset = []\n",
    "\n",
    "    if gColab:\n",
    "        dataset_dir = '/content/drive/MyDrive/foodSuggest/recipes_raw/'\n",
    "    else:\n",
    "        dataset_dir = './datasets/recipes_raw/'\n",
    "    \n",
    "    for dataset_file_name in dataset_file_names:\n",
    "        dataset_file_path = f'{dataset_dir}{dataset_file_name}'\n",
    "        \n",
    "        with open(dataset_file_path) as dataset_file:\n",
    "            json_data_dict = json.load(dataset_file)\n",
    "            json_data_list = list(json_data_dict.values())\n",
    "            dict_keys = [key for key in json_data_list[0]]\n",
    "            dict_keys.sort()\n",
    "            dataset += json_data_list\n",
    "            \n",
    "            # This code block outputs a summary for each dataset.\n",
    "            if not silent:\n",
    "                print(dataset_file_path)\n",
    "                print('===========================================')\n",
    "                print('Number of examples: ', len(json_data_list), '\\n')\n",
    "                print('Example object keys:\\n', dict_keys, '\\n')\n",
    "                print('Example object:\\n', json_data_list[0], '\\n')\n",
    "                print('Required keys:\\n')\n",
    "                print('  ingredients: ', json_data_list[0]['ingredients'])\n",
    "                print('\\n\\n')\n",
    "\n",
    "    return dataset  "
   ]
  },
  {
   "cell_type": "markdown",
   "id": "a3088904-698f-4187-ac1a-ff2f282a2371",
   "metadata": {
    "id": "a3088904-698f-4187-ac1a-ff2f282a2371",
    "pycharm": {
     "name": "#%% md\n"
    }
   },
   "source": [
    "<code>dataset_raw</code> contains all data, unadulterated"
   ]
  },
  {
   "cell_type": "code",
   "execution_count": 3,
   "id": "e8c69fd5-f3ed-4956-b07e-fe511a412754",
   "metadata": {
    "executionInfo": {
     "elapsed": 4681,
     "status": "ok",
     "timestamp": 1657603440021,
     "user": {
      "displayName": "Andrew Ballin",
      "userId": "14037039566695543818"
     },
     "user_tz": 420
    },
    "id": "e8c69fd5-f3ed-4956-b07e-fe511a412754",
    "pycharm": {
     "name": "#%%\n"
    }
   },
   "outputs": [],
   "source": [
    "dataset_raw = load_dataset(silent=True, gColab=False)"
   ]
  },
  {
   "cell_type": "markdown",
   "id": "a7802de5-f7f0-4000-882d-91fd13eb11dd",
   "metadata": {
    "id": "a7802de5-f7f0-4000-882d-91fd13eb11dd",
    "jp-MarkdownHeadingCollapsed": true,
    "pycharm": {
     "name": "#%% md\n"
    },
    "tags": []
   },
   "source": [
    "## preprocess data"
   ]
  },
  {
   "cell_type": "markdown",
   "id": "b4f3870c-54c5-47f8-a822-214719b94317",
   "metadata": {
    "id": "b4f3870c-54c5-47f8-a822-214719b94317",
    "pycharm": {
     "name": "#%% md\n"
    }
   },
   "source": [
    "Checks if the entry contains a non-empty <code>ingredients</code> section"
   ]
  },
  {
   "cell_type": "code",
   "execution_count": 4,
   "id": "08fc4384-3b21-4c69-833a-90f0ffd32cd9",
   "metadata": {
    "executionInfo": {
     "elapsed": 23,
     "status": "ok",
     "timestamp": 1657603440022,
     "user": {
      "displayName": "Andrew Ballin",
      "userId": "14037039566695543818"
     },
     "user_tz": 420
    },
    "id": "08fc4384-3b21-4c69-833a-90f0ffd32cd9",
    "pycharm": {
     "name": "#%%\n"
    }
   },
   "outputs": [],
   "source": [
    "def validate_required_fields(recipe):\n",
    "    required_keys = ['ingredients']\n",
    "    \n",
    "    # If recipe empty\n",
    "    if not recipe:\n",
    "        return False\n",
    "    \n",
    "    for required_key in required_keys:\n",
    "        # If there is no required_key entry in recipe\n",
    "        if not recipe[required_key]:\n",
    "            return False\n",
    "        \n",
    "        # If the required_key entry is an empty list\n",
    "        if type(recipe[required_key]) == list and len(recipe[required_key]) == 0:\n",
    "            return False\n",
    "        \n",
    "    return True"
   ]
  },
  {
   "cell_type": "markdown",
   "id": "f6d26d6c-9236-47c5-96cb-9aa1e9a89c42",
   "metadata": {
    "id": "f6d26d6c-9236-47c5-96cb-9aa1e9a89c42",
    "pycharm": {
     "name": "#%% md\n"
    }
   },
   "source": [
    "<code>dataset_validated</code> only possesses recipe entries with a non-empty ingredients list"
   ]
  },
  {
   "cell_type": "code",
   "execution_count": 5,
   "id": "e198f20c-6efb-4c06-b301-f56d3e958fb7",
   "metadata": {
    "executionInfo": {
     "elapsed": 230,
     "status": "ok",
     "timestamp": 1657603440232,
     "user": {
      "displayName": "Andrew Ballin",
      "userId": "14037039566695543818"
     },
     "user_tz": 420
    },
    "id": "e198f20c-6efb-4c06-b301-f56d3e958fb7",
    "pycharm": {
     "name": "#%%\n"
    }
   },
   "outputs": [],
   "source": [
    "dataset_validated = [recipe for recipe in dataset_raw if validate_required_fields(recipe)]"
   ]
  },
  {
   "cell_type": "markdown",
   "id": "740e21b8-cb3e-44fa-850d-8e4d814ba1f6",
   "metadata": {
    "id": "740e21b8-cb3e-44fa-850d-8e4d814ba1f6",
    "pycharm": {
     "name": "#%% md\n"
    }
   },
   "source": [
    "<code>skim</code> returns the <code>ingredients</code> array from a recipe, converting to lowercase, removing weird symbols, converting accented characters to standard ASCII ones, and returning it all as an array"
   ]
  },
  {
   "cell_type": "code",
   "execution_count": 6,
   "id": "66d87b52-c0aa-401b-9c45-01d157925d12",
   "metadata": {
    "executionInfo": {
     "elapsed": 185,
     "status": "ok",
     "timestamp": 1657603440414,
     "user": {
      "displayName": "Andrew Ballin",
      "userId": "14037039566695543818"
     },
     "user_tz": 420
    },
    "id": "66d87b52-c0aa-401b-9c45-01d157925d12",
    "pycharm": {
     "name": "#%%\n"
    }
   },
   "outputs": [],
   "source": [
    "def skim(recipe):\n",
    "    symbol_blacklist = [\n",
    "        'ADVERTISEMENT',\n",
    "        'advertisement',\n",
    "        'cups',\n",
    "        'cup',\n",
    "        'tablespoons',\n",
    "        'tablespoon',\n",
    "        'teaspoons',\n",
    "        'teaspoon',\n",
    "        'ounces',\n",
    "        'ounce',\n",
    "        'pounds',\n",
    "        'pound',\n",
    "        'packets',\n",
    "        'packet',\n",
    "        'pints ',\n",
    "        'pint ',\n",
    "        'quarts ',\n",
    "        'quart ',\n",
    "        'sprigs',\n",
    "        'sprig',\n",
    "        'sticks',\n",
    "        'stick',\n",
    "        'cans ',\n",
    "        'can ',\n",
    "        'optional',\n",
    "        'packages',\n",
    "        'package',\n",
    "        'plus ',\n",
    "        '0','1','2','3','4','5','6','7','8','9',\n",
    "        '/',\n",
    "        '-',\n",
    "        ' to ',\n",
    "        '(',\n",
    "        ')',\n",
    "        '.',\n",
    "        \"'\",\n",
    "        '®',\n",
    "        ':',\n",
    "        '™',\n",
    "        ';',\n",
    "        '&',\n",
    "        '%',\n",
    "        '*',\n",
    "        '\"',\n",
    "        '–',\n",
    "        '°',\n",
    "        'î',\n",
    "        '!',\n",
    "        '½',\n",
    "        '?',\n",
    "        '¿',\n",
    "        '=',\n",
    "        'ó',\n",
    "        '¼',\n",
    "        '>',\n",
    "        '#',\n",
    "        '<',\n",
    "        '’',\n",
    "        '—',\n",
    "        ']',\n",
    "        '[',\n",
    "        '¾',\n",
    "        '+',\n",
    "        '}',\n",
    "        '_',\n",
    "        '⁄',\n",
    "        '{',\n",
    "        '\\xad',\n",
    "        '|',\n",
    "        '$',\n",
    "        '‑',\n",
    "        '`',\n",
    "        '‚',\n",
    "        '\\\\',\n",
    "        '•',\n",
    "        '́',\n",
    "        '×',\n",
    "        'õ',\n",
    "        '@',\n",
    "        '�',\n",
    "        'ﬁ',\n",
    "        '‧',\n",
    "        '‟',\n",
    "        '‐',\n",
    "        '©',\n",
    "        '§',\n",
    "        'ﬂ',\n",
    "        '⅞',\n",
    "        '⅛',\n",
    "        '″',\n",
    "        '‱',\n",
    "        '”',\n",
    "        '¤',\n",
    "        '\\x96',\n",
    "        '~'\n",
    "    ]\n",
    "    \n",
    "    ingred_list = recipe['ingredients']\n",
    "    \n",
    "    out = []\n",
    "    for ingredient in ingred_list:\n",
    "        ingredient = ingredient.lower()  # doesn't affect any of the weird symbols above last time I checked\n",
    "\n",
    "        for bad_symbol in symbol_blacklist:\n",
    "            ingredient = ingredient.replace(bad_symbol, '')\n",
    "        \n",
    "        # transliterates not ASCII characters (should check the entries where these occur to inspect the data to make sure this actions is appropriate)\n",
    "        ingredient = unidecode.unidecode(ingredient)\n",
    "        \n",
    "        # delete leading whitespace\n",
    "        while ingredient and ingredient[0] == ' ':\n",
    "            ingredient = ingredient[1::]\n",
    "        \n",
    "        # delete trailing whitespace/newlines\n",
    "        while ingredient and (ingredient[-1] == '\\n' or ingredient[-1] == ' '):\n",
    "            ingredient = ingredient[:-1]\n",
    "        \n",
    "        # removes multiple whiespaces\n",
    "        ingredient = re.sub(' +', ' ', ingredient)\n",
    "\n",
    "        if ingredient:  # if string non-empty after bad_word purging\n",
    "            out.append(ingredient)\n",
    "            \n",
    "    return out"
   ]
  },
  {
   "cell_type": "code",
   "execution_count": 7,
   "id": "75a5e568-d37d-40ce-95a2-d58c76936f83",
   "metadata": {
    "pycharm": {
     "name": "#%%\n"
    }
   },
   "outputs": [],
   "source": [
    "# unidecode.unidecode('/ ( )   . \"\",® : ™ ; & % * \" – ° î ! ½ ? ¿ = ó ¼ > # < ’ — ] [ ¾ + } _ ⁄ { \\xad | $ ‑ ` ‚ \\\\ • ́ × õ @ � ﬁ ‧ ‟ ‐ © § ﬂ ⅞ ⅛ ″ ‱ ” ¤ \\x96 ~')"
   ]
  },
  {
   "cell_type": "code",
   "execution_count": 8,
   "id": "d72947fe-69f2-4b10-99b6-635028591481",
   "metadata": {
    "pycharm": {
     "name": "#%%\n"
    }
   },
   "outputs": [],
   "source": [
    "# '/ ( )   . \"\",® : ™ ; & % * \" – ° î ! ½ ? ¿ = ó ¼ > # < ’ — ] [ ¾ + } _ ⁄ { \\xad | $ ‑ ` ‚ \\\\ • ́ × õ @ � ﬁ ‧ ‟ ‐ © § ﬂ ⅞ ⅛ ″ ‱ ” ¤ \\x96 ~'.lower()"
   ]
  },
  {
   "cell_type": "code",
   "execution_count": 9,
   "id": "7205d2ee-abfa-4fbd-b49f-317366482b32",
   "metadata": {
    "pycharm": {
     "name": "#%%\n"
    }
   },
   "outputs": [],
   "source": [
    "# '/ ( )   . \"\",® : ™ ; & % * \" – ° î ! ½ ? ¿ = ó ¼ > # < ’ — ] [ ¾ + } _ ⁄ { \\xad | $ ‑ ` ‚ \\\\ • ́ × õ @ � ﬁ ‧ ‟ ‐ © § ﬂ ⅞ ⅛ ″ ‱ ” ¤ \\x96 ~'.lower() == '/ ( )   . \"\",® : ™ ; & % * \" – ° î ! ½ ? ¿ = ó ¼ > # < ’ — ] [ ¾ + } _ ⁄ { \\xad | $ ‑ ` ‚ \\\\ • ́ × õ @ � ﬁ ‧ ‟ ‐ © § ﬂ ⅞ ⅛ ″ ‱ ” ¤ \\x96 ~'"
   ]
  },
  {
   "cell_type": "markdown",
   "id": "2f0ee068-aa6a-4df0-805d-3c4dc6d12479",
   "metadata": {
    "id": "2f0ee068-aa6a-4df0-805d-3c4dc6d12479",
    "pycharm": {
     "name": "#%% md\n"
    }
   },
   "source": [
    "<code>dataset_skimmed</code> is an array of cleaned up ingredients lists (strings)"
   ]
  },
  {
   "cell_type": "code",
   "execution_count": 18,
   "id": "339ff502-1e8a-4e43-9dba-eea251cd60ce",
   "metadata": {
    "executionInfo": {
     "elapsed": 35000,
     "status": "ok",
     "timestamp": 1657603475411,
     "user": {
      "displayName": "Andrew Ballin",
      "userId": "14037039566695543818"
     },
     "user_tz": 420
    },
    "id": "339ff502-1e8a-4e43-9dba-eea251cd60ce",
    "pycharm": {
     "name": "#%%\n"
    }
   },
   "outputs": [],
   "source": [
    "dataset_skimmed = [skim(recipe) for recipe in dataset_validated]"
   ]
  },
  {
   "cell_type": "markdown",
   "id": "b8292768-bd7d-44fd-86c0-14109b2fbbf3",
   "metadata": {},
   "source": [
    "Test random entries to check how data was cleaned:"
   ]
  },
  {
   "cell_type": "code",
   "execution_count": 19,
   "id": "7f4833eb-64bc-4529-935f-6845d379d64c",
   "metadata": {
    "colab": {
     "base_uri": "https://localhost:8080/"
    },
    "executionInfo": {
     "elapsed": 196,
     "status": "ok",
     "timestamp": 1657603475602,
     "user": {
      "displayName": "Andrew Ballin",
      "userId": "14037039566695543818"
     },
     "user_tz": 420
    },
    "id": "7f4833eb-64bc-4529-935f-6845d379d64c",
    "outputId": "be2d795e-6720-425b-970e-fe156c8b2f49",
    "pycharm": {
     "name": "#%%\n"
    }
   },
   "outputs": [
    {
     "name": "stdout",
     "output_type": "stream",
     "text": [
      "['3 slices bacon, cut in half', '1 ripe avocado, split, pitted, and diced', '2 ripe tomatoes, diced', '2 hard-cooked eggs, chopped', 'Kosher salt and freshly ground black pepper', '8 cups mesclun greens', '2 cups shredded cooked chicken', '1/2 cup Blue Cheese Dressing, homemade, recipe follows', '1 cup mayonnaise', '1/2 cup crumbled Maytag or other blue cheese (about 3 ounces)', '1/2 cup half and half', '2 tablespoons sour cream', '1 tablespoon freshly squeezed lemon juice', '1/4 teaspoon Worcestershire sauce', 'Kosher salt and freshly ground black pepper']\n",
      "\n",
      "['slices bacon, cut in half', 'ripe avocado, split, pitted, and diced', 'ripe tomatoes, diced', 'hardcooked eggs, chopped', 'kosher salt and freshly ground black pepper', 'mesclun greens', 'shredded cooked chicken', 'blue cheese dressing, homemade, recipe follows', 'mayonnaise', 'crumbled maytag or other blue cheese about', 'half and half', 'sour cream', 'freshly squeezed lemon juice', 'worcestershire sauce', 'kosher salt and freshly ground black pepper']\n"
     ]
    }
   ],
   "source": [
    "n = random.randint(0, len(dataset_skimmed)-1)\n",
    "print(dataset_validated[n]['ingredients'])\n",
    "print()\n",
    "print(dataset_skimmed[n])"
   ]
  },
  {
   "cell_type": "markdown",
   "id": "b79e0cc3-0745-4b7f-8c91-bd1eed4099cc",
   "metadata": {
    "id": "b79e0cc3-0745-4b7f-8c91-bd1eed4099cc",
    "jp-MarkdownHeadingCollapsed": true,
    "pycharm": {
     "name": "#%% md\n"
    },
    "tags": []
   },
   "source": [
    "## tokenize, generate (data, label) pairs, and batch"
   ]
  },
  {
   "cell_type": "markdown",
   "id": "d961c60b-c9eb-4f64-884f-e6a7ef3d740b",
   "metadata": {
    "id": "d961c60b-c9eb-4f64-884f-e6a7ef3d740b",
    "pycharm": {
     "name": "#%% md\n"
    }
   },
   "source": [
    "Tokenize by list of recognized ingredients."
   ]
  },
  {
   "cell_type": "code",
   "execution_count": 12,
   "id": "07667bd3-be10-4073-80b1-930ec84294f1",
   "metadata": {
    "executionInfo": {
     "elapsed": 3358,
     "status": "ok",
     "timestamp": 1657603484230,
     "user": {
      "displayName": "Andrew Ballin",
      "userId": "14037039566695543818"
     },
     "user_tz": 420
    },
    "id": "07667bd3-be10-4073-80b1-930ec84294f1",
    "pycharm": {
     "name": "#%%\n"
    }
   },
   "outputs": [],
   "source": [
    "VOCAB_PATH = 'vocabs/ingredient_list_BBC.txt'\n",
    "\n",
    "id_from_ingred = tf.keras.layers.StringLookup(\n",
    "    vocabulary=VOCAB_PATH,\n",
    "    mask_token=None,\n",
    ")\n",
    "\n",
    "VOCAB_SIZE = len(id_from_ingred.get_vocabulary())  # includes reserved [UNK] index 0\n",
    "MAX_VOCAB_INGRED_PHRASE_LEN = len(max(id_from_ingred.get_vocabulary(), key=len))\n",
    "\n",
    "ingred_from_id = tf.keras.layers.StringLookup(\n",
    "    vocabulary=VOCAB_PATH,\n",
    "    mask_token=None,\n",
    "    invert=True\n",
    ")\n",
    "\n",
    "def decode(tokenized_list):\n",
    "    return [ingred.decode('utf-8') for ingred in ingred_from_id(tokenized_list).numpy()]"
   ]
  },
  {
   "cell_type": "markdown",
   "id": "e21e04f0-959c-4833-8dc7-d3b041cca235",
   "metadata": {},
   "source": [
    "Logic to find best match in vocab list:"
   ]
  },
  {
   "cell_type": "code",
   "execution_count": 13,
   "id": "d0d0d27f-1ed9-490e-b86b-6974e4f9e589",
   "metadata": {},
   "outputs": [],
   "source": [
    "def get_all_substrings(string, max_len=None):\n",
    "    length = len(string)\n",
    "\n",
    "    if not max_len:\n",
    "        return [string[x:y] for x, y in combinations(range(length+1), r=2)]\n",
    "    else:\n",
    "        return [string[x:y] for x, y in combinations(range(length+1), r=2) if y-x <= max_len]\n",
    "\n",
    "def best_id_from_ingred_phrase(ingred_phrase):\n",
    "    # list of all substring matches\n",
    "    token_list = id_from_ingred(get_all_substrings(ingred_phrase, max_len=MAX_VOCAB_INGRED_PHRASE_LEN))\n",
    "    \n",
    "    # retain only positive matches\n",
    "    token_list = tf.boolean_mask(token_list, token_list != 0)\n",
    "    \n",
    "    # best match determined by longest substring match\n",
    "    if token_list.shape == 0:  # no match in vocab list\n",
    "        return id_from_ingred('[UNK]').numpy()\n",
    "    elif token_list.shape == 1:\n",
    "        return token_list[0].numpy()\n",
    "    else:  # find longest match\n",
    "        match_lens = [ (len(ingred_from_id(tok).numpy()), tok.numpy()) for tok in token_list ]\n",
    "        return max(match_lens)[1]\n",
    "\n",
    "def best_ids_from_ingred_list(ingred_list):\n",
    "    return [best_id_from_ingred_phrase(ingred_phrase) for ingred_phrase in ingred_list]"
   ]
  },
  {
   "cell_type": "code",
   "execution_count": 22,
   "id": "7c76bc7c-294d-4495-86e4-2f5e091d8777",
   "metadata": {},
   "outputs": [
    {
     "name": "stdout",
     "output_type": "stream",
     "text": [
      "['dry angel hair pasta', 'kosher salt', 'olive oil', 'andouille sausage, diced into inch pieces', 'smalldiced yellow onion', 'minced garlic', 'green zucchini, small dice', 'smalldiced red bell pepper', 'one diced tomatoes', 'chopped fresh thyme', 'heavy cream', 'cooked crawfish tails', 'chopped fresh basil', 'seafood seasoning, such as old bay', 'grated parmesan']\n",
      "\n",
      "[697, 865, 667, 874, 668, 410, 0, 716, 1008, 1003, 278, 367, 48, 885, 690]\n",
      "\n",
      "['pasta', 'salt', 'olive oil', 'sausage', 'onion', 'garlic', '[UNK]', 'pepper', 'tomato', 'thyme', 'cream', 'fish', 'basil', 'seasoning', 'parmesan']\n"
     ]
    }
   ],
   "source": [
    "n = random.randint(0, len(dataset_skimmed)-1)\n",
    "print(dataset_skimmed[n])\n",
    "print()\n",
    "print(best_ids_from_ingred_list(dataset_skimmed[n]))\n",
    "print()\n",
    "print(decode(best_ids_from_ingred_list(dataset_skimmed[n])))"
   ]
  },
  {
   "cell_type": "markdown",
   "id": "9c571cd5-8554-470d-9851-c9e4648c79b4",
   "metadata": {},
   "source": [
    "*************** limiting to 10,000 entries for now due to processing time ***************"
   ]
  },
  {
   "cell_type": "code",
   "execution_count": 23,
   "id": "de4d3356-02f5-4cd5-bed9-ae75b43bda0a",
   "metadata": {
    "executionInfo": {
     "elapsed": 16930,
     "status": "ok",
     "timestamp": 1657603501319,
     "user": {
      "displayName": "Andrew Ballin",
      "userId": "14037039566695543818"
     },
     "user_tz": 420
    },
    "id": "de4d3356-02f5-4cd5-bed9-ae75b43bda0a",
    "pycharm": {
     "name": "#%%\n"
    }
   },
   "outputs": [],
   "source": [
    "dataset_tokenized_ragged = [best_ids_from_ingred_list(ingred_list) for ingred_list in dataset_skimmed[:10000]]"
   ]
  },
  {
   "cell_type": "code",
   "execution_count": 24,
   "id": "01627366-c0cd-4303-b1a1-866a0e7b0866",
   "metadata": {},
   "outputs": [],
   "source": [
    "def remove_UNKs(ingred_list):\n",
    "    temp = np.array(ingred_list)\n",
    "    return temp[temp != id_from_ingred('[UNK]').numpy()]"
   ]
  },
  {
   "cell_type": "code",
   "execution_count": 25,
   "id": "bc2a7dcc-d604-4dc7-9329-efde9ac04060",
   "metadata": {},
   "outputs": [],
   "source": [
    "dataset_cleaned = [remove_UNKs(ingred_list) for ingred_list in dataset_tokenized_ragged]"
   ]
  },
  {
   "cell_type": "code",
   "execution_count": 26,
   "id": "670a69fd-492b-4af2-8ec0-4341d886f378",
   "metadata": {},
   "outputs": [
    {
     "data": {
      "image/png": "[encoded data removed]",
      "text/plain": [
       "<Figure size 432x288 with 1 Axes>"
      ]
     },
     "metadata": {
      "needs_background": "light"
     },
     "output_type": "display_data"
    }
   ],
   "source": [
    "ingredient_list_lengths = []\n",
    "for ingred_test in dataset_cleaned:\n",
    "    ingredient_list_lengths.append(len(ingred_test))\n",
    "    \n",
    "plt.hist(ingredient_list_lengths, bins = 50, range = (0,40))\n",
    "plt.show()"
   ]
  },
  {
   "cell_type": "code",
   "execution_count": 27,
   "id": "89afc5e4-fdc0-4a32-9a6b-18af51ae5c98",
   "metadata": {},
   "outputs": [],
   "source": [
    "MAX_INGREDIENT_LIST_LENGTH = 12"
   ]
  },
  {
   "cell_type": "code",
   "execution_count": 28,
   "id": "e221402d-e168-4243-a5d8-4a23b1c385db",
   "metadata": {},
   "outputs": [],
   "source": [
    "def pad_trunk_tokenized_list(ingred_list, pad_char=id_from_ingred('[UNK]').numpy()):\n",
    "    if len(ingred_list) < MAX_INGREDIENT_LIST_LENGTH:\n",
    "        ingred_list = np.append(ingred_list, np.ones((MAX_INGREDIENT_LIST_LENGTH - len(ingred_list)), dtype=np.int64)*pad_char)\n",
    "        return ingred_list\n",
    "    \n",
    "    if len(ingred_list) >= MAX_INGREDIENT_LIST_LENGTH:\n",
    "        return ingred_list[:MAX_INGREDIENT_LIST_LENGTH]"
   ]
  },
  {
   "cell_type": "code",
   "execution_count": 30,
   "id": "ef636267-33bc-4ee5-a871-5599ee4dc0ad",
   "metadata": {},
   "outputs": [],
   "source": [
    "dataset_shaped = [pad_trunk_tokenized_list(ingred_list) for ingred_list in dataset_cleaned]"
   ]
  },
  {
   "cell_type": "code",
   "execution_count": 31,
   "id": "1ebe0dc5-bedd-400a-a027-b96bde384d02",
   "metadata": {},
   "outputs": [],
   "source": [
    "dataset_tokenized = tf.data.Dataset.from_tensor_slices(dataset_shaped)"
   ]
  },
  {
   "cell_type": "markdown",
   "id": "fe3dc5de-e9dd-4e78-bc02-44a55361debe",
   "metadata": {
    "id": "fe3dc5de-e9dd-4e78-bc02-44a55361debe",
    "pycharm": {
     "name": "#%% md\n"
    }
   },
   "source": [
    "<code>split_input_target</code> takes in a string of length <code>n+1</code> and outputs a tuple of length-<code>n</code> arrays used for training next-character prediction"
   ]
  },
  {
   "cell_type": "code",
   "execution_count": 32,
   "id": "6eb1a0b2-06f4-43f8-abe2-63e1439e7e99",
   "metadata": {
    "executionInfo": {
     "elapsed": 20,
     "status": "ok",
     "timestamp": 1657603501321,
     "user": {
      "displayName": "Andrew Ballin",
      "userId": "14037039566695543818"
     },
     "user_tz": 420
    },
    "id": "6eb1a0b2-06f4-43f8-abe2-63e1439e7e99",
    "pycharm": {
     "name": "#%%\n"
    }
   },
   "outputs": [],
   "source": [
    "def split_input_target(sequence):\n",
    "    return sequence[:-1], sequence[1:]"
   ]
  },
  {
   "cell_type": "code",
   "execution_count": 33,
   "id": "7c9cb561-9175-4e30-9a4d-2e86324f5885",
   "metadata": {
    "executionInfo": {
     "elapsed": 213,
     "status": "ok",
     "timestamp": 1657603501515,
     "user": {
      "displayName": "Andrew Ballin",
      "userId": "14037039566695543818"
     },
     "user_tz": 420
    },
    "id": "7c9cb561-9175-4e30-9a4d-2e86324f5885",
    "pycharm": {
     "name": "#%%\n"
    }
   },
   "outputs": [],
   "source": [
    "dataset = dataset_tokenized.map(split_input_target)"
   ]
  },
  {
   "cell_type": "markdown",
   "id": "c17cdcdb-7707-4932-acd4-ea426dbb177b",
   "metadata": {
    "id": "c17cdcdb-7707-4932-acd4-ea426dbb177b",
    "pycharm": {
     "name": "#%% md\n"
    }
   },
   "source": [
    "<code>dataset_train</code> is an object that shuffles the order of <code>dataset</code> and returns a batch of training examples of size <code>BATCH_SIZE</code>. Calling <code>.repeat()</code> makes it so that this object can be called indefinetly (i.e. doesn't 'pop off' elements)."
   ]
  },
  {
   "cell_type": "code",
   "execution_count": 35,
   "id": "a5401731-6f58-4e2c-a0e6-5609e539a602",
   "metadata": {
    "executionInfo": {
     "elapsed": 7,
     "status": "ok",
     "timestamp": 1657603501516,
     "user": {
      "displayName": "Andrew Ballin",
      "userId": "14037039566695543818"
     },
     "user_tz": 420
    },
    "id": "a5401731-6f58-4e2c-a0e6-5609e539a602",
    "pycharm": {
     "name": "#%%\n"
    }
   },
   "outputs": [],
   "source": [
    "BATCH_SIZE = 64\n",
    "SHUFFLE_BUFFER_SIZE = 500  # used so that we don't have to shuffle entire dataset at once\n",
    "\n",
    "dataset_train = dataset\\\n",
    "    .shuffle(SHUFFLE_BUFFER_SIZE)\\\n",
    "    .batch(BATCH_SIZE, drop_remainder=True)\\\n",
    "    .repeat()"
   ]
  },
  {
   "cell_type": "markdown",
   "id": "d8ed3233-2c99-4308-b772-96f06519e952",
   "metadata": {
    "id": "d8ed3233-2c99-4308-b772-96f06519e952",
    "jp-MarkdownHeadingCollapsed": true,
    "pycharm": {
     "name": "#%% md\n"
    },
    "tags": []
   },
   "source": [
    "# build model"
   ]
  },
  {
   "cell_type": "markdown",
   "id": "8f44c3e5-4621-4bbe-80ff-507e24999d9b",
   "metadata": {
    "id": "8f44c3e5-4621-4bbe-80ff-507e24999d9b",
    "jp-MarkdownHeadingCollapsed": true,
    "pycharm": {
     "name": "#%% md\n"
    },
    "tags": []
   },
   "source": [
    "## construct model"
   ]
  },
  {
   "cell_type": "markdown",
   "id": "bd3ab9a4-cca5-4005-a34a-2316122b868c",
   "metadata": {
    "id": "bd3ab9a4-cca5-4005-a34a-2316122b868c",
    "pycharm": {
     "name": "#%% md\n"
    }
   },
   "source": [
    "Builds a model consisting of an embedding layer, followed by a LSTM layer, followed by a dense output layer"
   ]
  },
  {
   "cell_type": "code",
   "execution_count": 37,
   "id": "2c7loSGB_mef",
   "metadata": {
    "executionInfo": {
     "elapsed": 160,
     "status": "ok",
     "timestamp": 1657605154745,
     "user": {
      "displayName": "Andrew Ballin",
      "userId": "14037039566695543818"
     },
     "user_tz": 420
    },
    "id": "2c7loSGB_mef",
    "pycharm": {
     "name": "#%%\n"
    }
   },
   "outputs": [],
   "source": [
    "EMBEDDING_DIM=512\n",
    "RNN_UNITS=2048"
   ]
  },
  {
   "cell_type": "code",
   "execution_count": 38,
   "id": "facf4530-55f8-4d6c-84d4-86c6226dbd05",
   "metadata": {
    "colab": {
     "base_uri": "https://localhost:8080/"
    },
    "executionInfo": {
     "elapsed": 717,
     "status": "ok",
     "timestamp": 1657605155617,
     "user": {
      "displayName": "Andrew Ballin",
      "userId": "14037039566695543818"
     },
     "user_tz": 420
    },
    "id": "facf4530-55f8-4d6c-84d4-86c6226dbd05",
    "outputId": "d631ab44-7eb6-43e5-8c44-87dc8b15bf91",
    "pycharm": {
     "name": "#%%\n"
    }
   },
   "outputs": [
    {
     "name": "stdout",
     "output_type": "stream",
     "text": [
      "Model: \"sequential\"\n",
      "_________________________________________________________________\n",
      " Layer (type)                Output Shape              Param #   \n",
      "=================================================================\n",
      " embedding (Embedding)       (64, None, 512)           558592    \n",
      "                                                                 \n",
      " lstm (LSTM)                 (64, None, 2048)          20979712  \n",
      "                                                                 \n",
      " dense (Dense)               (64, None, 1091)          2235459   \n",
      "                                                                 \n",
      "=================================================================\n",
      "Total params: 23,773,763\n",
      "Trainable params: 23,773,763\n",
      "Non-trainable params: 0\n",
      "_________________________________________________________________\n"
     ]
    }
   ],
   "source": [
    "def build_model(vocab_size, embedding_dim, rnn_units, batch_size):\n",
    "    model = tf.keras.models.Sequential()\n",
    "    \n",
    "    # embedding layer is for learning dense vector representations of int-encoded input characters\n",
    "    model.add(tf.keras.layers.Embedding(  # input is tensor with shape (batch_size, input_length)\n",
    "        input_dim=vocab_size,\n",
    "        output_dim=embedding_dim,\n",
    "        batch_input_shape=[batch_size, None]  # can't find this in the API documentation...\n",
    "    ))\n",
    "    \n",
    "    # essentially the RNN layer\n",
    "    model.add(tf.keras.layers.LSTM(\n",
    "        units=rnn_units,\n",
    "        return_sequences=True,\n",
    "        stateful=True,\n",
    "        recurrent_initializer=tf.keras.initializers.GlorotNormal()\n",
    "    ))\n",
    "    \n",
    "    # one-vs-many output layer\n",
    "    model.add(tf.keras.layers.Dense(vocab_size))\n",
    "    \n",
    "    return model\n",
    "\n",
    "model = build_model(\n",
    "    vocab_size=VOCAB_SIZE,\n",
    "    embedding_dim=EMBEDDING_DIM,  # unsure if this should be larger than vocab_size or less than it...\n",
    "    rnn_units=RNN_UNITS,\n",
    "    batch_size=BATCH_SIZE\n",
    ")\n",
    "\n",
    "# model.build([BATCH_SIZE, MAX_INGREDIENT_LIST_LENGTH, VOCAB_SIZE])\n",
    "model.summary()"
   ]
  },
  {
   "cell_type": "markdown",
   "id": "45761f6a-2daa-4ad0-8530-c698718d8a98",
   "metadata": {
    "id": "45761f6a-2daa-4ad0-8530-c698718d8a98",
    "pycharm": {
     "name": "#%% md\n"
    }
   },
   "source": [
    "Define <code>loss</code> function using <code>sparse_categorical_crossentropy</code>"
   ]
  },
  {
   "cell_type": "code",
   "execution_count": 39,
   "id": "f7643ff8-7093-4c44-9890-fe8aacbfaab8",
   "metadata": {
    "executionInfo": {
     "elapsed": 9,
     "status": "ok",
     "timestamp": 1657605155618,
     "user": {
      "displayName": "Andrew Ballin",
      "userId": "14037039566695543818"
     },
     "user_tz": 420
    },
    "id": "f7643ff8-7093-4c44-9890-fe8aacbfaab8",
    "pycharm": {
     "name": "#%%\n"
    }
   },
   "outputs": [],
   "source": [
    "def loss(labels, logits):\n",
    "    entropy = tf.keras.losses.sparse_categorical_crossentropy(\n",
    "        y_true=labels,\n",
    "        y_pred=logits,\n",
    "        from_logits=True  # states that y_pred is a logits tensor instead of a probability distribution\n",
    "    )\n",
    "    \n",
    "    return entropy"
   ]
  },
  {
   "cell_type": "markdown",
   "id": "e783e1a8-744b-4702-a7ed-b6eab7ef8886",
   "metadata": {
    "id": "e783e1a8-744b-4702-a7ed-b6eab7ef8886",
    "pycharm": {
     "name": "#%% md\n"
    }
   },
   "source": [
    "compile the model"
   ]
  },
  {
   "cell_type": "code",
   "execution_count": 40,
   "id": "2633689f-add2-43f8-b53b-920c975aa534",
   "metadata": {
    "executionInfo": {
     "elapsed": 9,
     "status": "ok",
     "timestamp": 1657605155619,
     "user": {
      "displayName": "Andrew Ballin",
      "userId": "14037039566695543818"
     },
     "user_tz": 420
    },
    "id": "2633689f-add2-43f8-b53b-920c975aa534",
    "pycharm": {
     "name": "#%%\n"
    }
   },
   "outputs": [],
   "source": [
    "model.compile(\n",
    "    optimizer=tf.keras.optimizers.Adam(learning_rate=.01),\n",
    "    loss=loss\n",
    ")"
   ]
  },
  {
   "cell_type": "markdown",
   "id": "061e3d5b-c874-4edb-ad89-ce8a9a272850",
   "metadata": {
    "id": "061e3d5b-c874-4edb-ad89-ce8a9a272850",
    "pycharm": {
     "name": "#%% md\n"
    }
   },
   "source": [
    "<code>early_stopping_callback</code> will stop training if model isn't improving after stated number of epochs"
   ]
  },
  {
   "cell_type": "code",
   "execution_count": 41,
   "id": "b8507885-111b-4825-a070-9ab0ff6faec7",
   "metadata": {
    "executionInfo": {
     "elapsed": 8,
     "status": "ok",
     "timestamp": 1657605155619,
     "user": {
      "displayName": "Andrew Ballin",
      "userId": "14037039566695543818"
     },
     "user_tz": 420
    },
    "id": "b8507885-111b-4825-a070-9ab0ff6faec7",
    "pycharm": {
     "name": "#%%\n"
    }
   },
   "outputs": [],
   "source": [
    "early_stopping_callback = tf.keras.callbacks.EarlyStopping(\n",
    "    patience=3,  # number of epochs\n",
    "    monitor='loss',  # quantity to monitor\n",
    "    restore_best_weights=True,  # use weights from before improvement plateaued\n",
    "    verbose=1  # be verbose\n",
    ")"
   ]
  },
  {
   "cell_type": "code",
   "execution_count": 42,
   "id": "86a6400e-9131-4a06-952b-3e53bc99c825",
   "metadata": {
    "executionInfo": {
     "elapsed": 7,
     "status": "ok",
     "timestamp": 1657605155619,
     "user": {
      "displayName": "Andrew Ballin",
      "userId": "14037039566695543818"
     },
     "user_tz": 420
    },
    "id": "86a6400e-9131-4a06-952b-3e53bc99c825",
    "pycharm": {
     "name": "#%%\n"
    }
   },
   "outputs": [],
   "source": [
    "# Create a checkpoints directory\n",
    "checkpoint_dir = 'tmp/checkpoints'\n",
    "os.makedirs(checkpoint_dir, exist_ok=True)\n",
    "\n",
    "checkpoint_prefix = os.path.join(checkpoint_dir, 'ckpt_{epoch}')\n",
    "checkpoint_callback=tf.keras.callbacks.ModelCheckpoint(\n",
    "    filepath=checkpoint_prefix,\n",
    "    save_weights_only=True\n",
    ")"
   ]
  },
  {
   "cell_type": "markdown",
   "id": "0affbab9-8ef6-462b-99f1-da6e123a32f9",
   "metadata": {
    "id": "0affbab9-8ef6-462b-99f1-da6e123a32f9",
    "jp-MarkdownHeadingCollapsed": true,
    "pycharm": {
     "name": "#%% md\n"
    },
    "tags": []
   },
   "source": [
    "## train model"
   ]
  },
  {
   "cell_type": "code",
   "execution_count": 43,
   "id": "ec5c7f67-d0ad-446b-8316-5ea6f8fee487",
   "metadata": {
    "executionInfo": {
     "elapsed": 184,
     "status": "ok",
     "timestamp": 1657604851990,
     "user": {
      "displayName": "Andrew Ballin",
      "userId": "14037039566695543818"
     },
     "user_tz": 420
    },
    "id": "ec5c7f67-d0ad-446b-8316-5ea6f8fee487",
    "pycharm": {
     "name": "#%%\n"
    }
   },
   "outputs": [],
   "source": [
    "EPOCHS = 15\n",
    "INITIAL_EPOCH = 0\n",
    "STEPS_PER_EPOCH = 50  # i.e. number of batches per epoch"
   ]
  },
  {
   "cell_type": "code",
   "execution_count": 44,
   "id": "80787b20-4dd7-4095-9667-4056718de670",
   "metadata": {
    "colab": {
     "base_uri": "https://localhost:8080/"
    },
    "executionInfo": {
     "elapsed": 151144,
     "status": "ok",
     "timestamp": 1657605309751,
     "user": {
      "displayName": "Andrew Ballin",
      "userId": "14037039566695543818"
     },
     "user_tz": 420
    },
    "id": "80787b20-4dd7-4095-9667-4056718de670",
    "outputId": "710baadf-2262-45b1-96d4-e9f89a3a2259",
    "pycharm": {
     "name": "#%%\n"
    }
   },
   "outputs": [
    {
     "name": "stdout",
     "output_type": "stream",
     "text": [
      "Epoch 1/15\n",
      "50/50 [==============================] - 71s 1s/step - loss: 8.4522\n",
      "Epoch 2/15\n",
      "50/50 [==============================] - 72s 1s/step - loss: 3.5384\n",
      "Epoch 3/15\n",
      "50/50 [==============================] - 72s 1s/step - loss: 3.2270\n",
      "Epoch 4/15\n",
      "50/50 [==============================] - 72s 1s/step - loss: 3.0039\n",
      "Epoch 5/15\n",
      "50/50 [==============================] - 73s 1s/step - loss: 2.8937\n",
      "Epoch 6/15\n",
      "50/50 [==============================] - 72s 1s/step - loss: 2.8755\n",
      "Epoch 7/15\n",
      "50/50 [==============================] - 72s 1s/step - loss: 2.7262\n",
      "Epoch 8/15\n",
      "50/50 [==============================] - 73s 1s/step - loss: 2.7431\n",
      "Epoch 9/15\n",
      "50/50 [==============================] - 73s 1s/step - loss: 2.7317\n",
      "Epoch 10/15\n",
      "50/50 [==============================] - 73s 1s/step - loss: 2.6362\n",
      "Epoch 11/15\n",
      "50/50 [==============================] - 73s 1s/step - loss: 2.6310\n",
      "Epoch 12/15\n",
      "50/50 [==============================] - 73s 1s/step - loss: 2.6371\n",
      "Epoch 13/15\n",
      "50/50 [==============================] - 72s 1s/step - loss: 2.5606\n",
      "Epoch 14/15\n",
      "50/50 [==============================] - 70s 1s/step - loss: 2.5639\n",
      "Epoch 15/15\n",
      "50/50 [==============================] - 69s 1s/step - loss: 2.5731\n"
     ]
    }
   ],
   "source": [
    "history = model.fit(\n",
    "    x=dataset_train,\n",
    "    epochs=EPOCHS,\n",
    "    steps_per_epoch=STEPS_PER_EPOCH,\n",
    "    initial_epoch=INITIAL_EPOCH,\n",
    "    callbacks=[\n",
    "        checkpoint_callback,\n",
    "        early_stopping_callback\n",
    "    ]\n",
    ")\n",
    "\n",
    "# Saving the trained model to file (to be able to re-use it later).\n",
    "model_name = 'next_ingred_rnn_raw.h5'\n",
    "model.save(model_name, save_format='h5')"
   ]
  },
  {
   "cell_type": "markdown",
   "id": "a5a3ed59-bf8c-46d1-a686-c93e786efeec",
   "metadata": {
    "id": "a5a3ed59-bf8c-46d1-a686-c93e786efeec",
    "jp-MarkdownHeadingCollapsed": true,
    "pycharm": {
     "name": "#%% md\n"
    },
    "tags": []
   },
   "source": [
    "## evaluate model"
   ]
  },
  {
   "cell_type": "code",
   "execution_count": 45,
   "id": "8a87c4d4-e9b5-4a07-887f-5eed1b8eabeb",
   "metadata": {
    "colab": {
     "base_uri": "https://localhost:8080/",
     "height": 295
    },
    "executionInfo": {
     "elapsed": 188,
     "status": "ok",
     "timestamp": 1657605313432,
     "user": {
      "displayName": "Andrew Ballin",
      "userId": "14037039566695543818"
     },
     "user_tz": 420
    },
    "id": "8a87c4d4-e9b5-4a07-887f-5eed1b8eabeb",
    "outputId": "21f5de75-45c2-43c1-826c-385e984172ee",
    "pycharm": {
     "name": "#%%\n"
    }
   },
   "outputs": [
    {
     "data": {
      "image/png": "[encoded data removed]",
      "text/plain": [
       "<Figure size 432x288 with 1 Axes>"
      ]
     },
     "metadata": {
      "needs_background": "light"
     },
     "output_type": "display_data"
    }
   ],
   "source": [
    "def render_training_history(training_history):\n",
    "    loss = training_history.history['loss']\n",
    "\n",
    "    plt.title('Loss')\n",
    "    plt.xlabel('Epoch')\n",
    "    plt.ylabel('Loss')\n",
    "    plt.plot(loss, label='Training set')\n",
    "    plt.legend()\n",
    "    plt.grid(linestyle='--', linewidth=1, alpha=0.5)\n",
    "    plt.show()\n",
    "\n",
    "render_training_history(history)"
   ]
  },
  {
   "cell_type": "markdown",
   "id": "5b579da0-7ad9-4bd1-931d-e15ab4d16ec2",
   "metadata": {
    "id": "5b579da0-7ad9-4bd1-931d-e15ab4d16ec2",
    "pycharm": {
     "name": "#%% md\n"
    },
    "tags": []
   },
   "source": [
    "# make predictions"
   ]
  },
  {
   "cell_type": "markdown",
   "id": "87db1f26-e116-4d97-a877-35475eb8584c",
   "metadata": {
    "id": "87db1f26-e116-4d97-a877-35475eb8584c",
    "jp-MarkdownHeadingCollapsed": true,
    "pycharm": {
     "name": "#%% md\n"
    },
    "tags": []
   },
   "source": [
    "## load/create generative model and function"
   ]
  },
  {
   "cell_type": "markdown",
   "id": "fb4c0afd-cd4d-407d-bd17-35c38a53fade",
   "metadata": {
    "id": "fb4c0afd-cd4d-407d-bd17-35c38a53fade",
    "pycharm": {
     "name": "#%% md\n"
    }
   },
   "source": [
    "Since we only want to feed in a single ingredient list that we want it to suggest additions to, we need to rebuild the model with a batchsize of 1, otherwise it would require we feed it BATCH_SIZE lists."
   ]
  },
  {
   "cell_type": "code",
   "execution_count": 46,
   "id": "463ebef1-e680-4969-a2e8-564d7a08e5e3",
   "metadata": {
    "colab": {
     "base_uri": "https://localhost:8080/"
    },
    "executionInfo": {
     "elapsed": 481,
     "status": "ok",
     "timestamp": 1657605317581,
     "user": {
      "displayName": "Andrew Ballin",
      "userId": "14037039566695543818"
     },
     "user_tz": 420
    },
    "id": "463ebef1-e680-4969-a2e8-564d7a08e5e3",
    "outputId": "717e154e-7905-4267-b0ec-73d7a412ba24",
    "pycharm": {
     "name": "#%%\n"
    }
   },
   "outputs": [
    {
     "name": "stdout",
     "output_type": "stream",
     "text": [
      "Model: \"sequential_1\"\n",
      "_________________________________________________________________\n",
      " Layer (type)                Output Shape              Param #   \n",
      "=================================================================\n",
      " embedding_1 (Embedding)     (1, None, 512)            558592    \n",
      "                                                                 \n",
      " lstm_1 (LSTM)               (1, None, 2048)           20979712  \n",
      "                                                                 \n",
      " dense_1 (Dense)             (1, None, 1091)           2235459   \n",
      "                                                                 \n",
      "=================================================================\n",
      "Total params: 23,773,763\n",
      "Trainable params: 23,773,763\n",
      "Non-trainable params: 0\n",
      "_________________________________________________________________\n"
     ]
    }
   ],
   "source": [
    "SIMPLIFIED_BATCH_SIZE = 1\n",
    "\n",
    "model_simplified = build_model(\n",
    "    vocab_size=VOCAB_SIZE,\n",
    "    embedding_dim=EMBEDDING_DIM,\n",
    "    rnn_units=RNN_UNITS,\n",
    "    batch_size=SIMPLIFIED_BATCH_SIZE)\n",
    "\n",
    "# load learned weights from saved training model\n",
    "model_simplified.load_weights('./next_ingred_rnn_raw.h5')\n",
    "\n",
    "# ---------- OR ----------\n",
    "# load learned weights from last checkpoint\n",
    "# model_simplified.load_weights(tf.train.latest_checkpoint(checkpoint_dir))\n",
    "\n",
    "model_simplified.build(tf.TensorShape([SIMPLIFIED_BATCH_SIZE, None]))  # can't find .build() method in the API docs...\n",
    "\n",
    "model_simplified.summary()"
   ]
  },
  {
   "cell_type": "markdown",
   "id": "054e2ec0-6094-4bd1-80c6-8abf4fdbd1b0",
   "metadata": {
    "id": "054e2ec0-6094-4bd1-80c6-8abf4fdbd1b0",
    "pycharm": {
     "name": "#%% md\n"
    }
   },
   "source": [
    "Note on the <code>tf.random.categorical()</code> line: current understanding is that the output of dense layer should be interpereted as (possibly unnormalized) log-probabilities of what the next character should be. Instead of simply returning the character corresponding to the argmax, we'd like to sample from this probability distribution so that our model doesn't always return the same thing each time (i.e. isn't determininistic). I think we control 'how deterministic' our model will be via the <code>temperature</code> parameter."
   ]
  },
  {
   "cell_type": "markdown",
   "id": "220006a2-7f48-4d85-aed2-b06221c67539",
   "metadata": {
    "id": "220006a2-7f48-4d85-aed2-b06221c67539",
    "pycharm": {
     "name": "#%% md\n"
    }
   },
   "source": [
    "Pretty sure <code>tf.random.categorical</code> is the same as sampling from a discrete distribution, but with the input as log-probabilities instead of the PMF."
   ]
  },
  {
   "cell_type": "code",
   "execution_count": 66,
   "id": "792a06fd-95bd-474f-99a8-0cf3a6c3d054",
   "metadata": {
    "executionInfo": {
     "elapsed": 6,
     "status": "ok",
     "timestamp": 1657605317582,
     "user": {
      "displayName": "Andrew Ballin",
      "userId": "14037039566695543818"
     },
     "user_tz": 420
    },
    "id": "792a06fd-95bd-474f-99a8-0cf3a6c3d054",
    "pycharm": {
     "name": "#%%\n"
    }
   },
   "outputs": [],
   "source": [
    "def complete_list(model, start_list, num_generate=2, temperature=1.0):\n",
    "    # tokenize start_list\n",
    "    tokenized_start_list = best_ids_from_ingred_list(start_list)\n",
    "    print(f'Interpreted input list as {decode(tokenized_start_list)}')\n",
    "\n",
    "    out = []\n",
    "\n",
    "    # batch size = 1\n",
    "    model.reset_states()\n",
    "    for char_index in range(num_generate):\n",
    "        predictions = model(tf.expand_dims(tokenized_start_list, 0))  # need to expand so this is a batch of size 1\n",
    "        \n",
    "        # remove the batch dimension\n",
    "        predictions = tf.squeeze(predictions, 0)\n",
    "\n",
    "        # use categorical distribution to predict the next character\n",
    "        predictions = predictions / temperature\n",
    "        predicted_id = tf.random.categorical(\n",
    "            predictions,\n",
    "            num_samples=1\n",
    "        )[-1, 0].numpy()\n",
    "\n",
    "        # pass predicted ingredient token as the next input to the model along with previous hidden state\n",
    "        tokenized_start_list = tf.expand_dims([predicted_id], 0)\n",
    "        \n",
    "        next_token = tokenized_start_list[0]\n",
    "        next_ingred = decode(next_token)[0]\n",
    "        out.append(next_ingred)\n",
    "\n",
    "    return out"
   ]
  },
  {
   "cell_type": "markdown",
   "id": "7ccaa622-8e72-43f3-9969-4311905306a0",
   "metadata": {
    "id": "7ccaa622-8e72-43f3-9969-4311905306a0",
    "pycharm": {
     "name": "#%% md\n"
    }
   },
   "source": [
    "## output"
   ]
  },
  {
   "cell_type": "code",
   "execution_count": 74,
   "id": "db18206f-9fd6-4aa9-9307-a53dae71fd9a",
   "metadata": {
    "colab": {
     "base_uri": "https://localhost:8080/"
    },
    "executionInfo": {
     "elapsed": 786,
     "status": "ok",
     "timestamp": 1657605376276,
     "user": {
      "displayName": "Andrew Ballin",
      "userId": "14037039566695543818"
     },
     "user_tz": 420
    },
    "id": "db18206f-9fd6-4aa9-9307-a53dae71fd9a",
    "outputId": "bba5d33e-4c95-4a25-8a2d-c0bb155664d1",
    "pycharm": {
     "name": "#%%\n"
    }
   },
   "outputs": [
    {
     "name": "stdout",
     "output_type": "stream",
     "text": [
      "Interpreted input list as ['onion', 'potato', 'carrot', 'broccoli']\n",
      "Try adding: ['salad', 'fruit juice']\n"
     ]
    }
   ],
   "source": [
    "print(f\"Try adding: {complete_list(model_simplified, ['onion', 'potato bla', 'carrot', 'broccoli'] , num_generate=2, temperature=.5)}\")"
   ]
  },
  {
   "cell_type": "code",
   "execution_count": 167,
   "id": "36GvhPwj7s0s",
   "metadata": {
    "id": "36GvhPwj7s0s",
    "pycharm": {
     "name": "#%%\n"
    }
   },
   "outputs": [
    {
     "name": "stdout",
     "output_type": "stream",
     "text": [
      "Interpreted input list as ['flour', 'sugar', 'egg']\n",
      "Try adding: ['salt', 'baking powder']\n"
     ]
    }
   ],
   "source": [
    "print(f\"Try adding: {complete_list(model_simplified, ['flour', 'sugar bla', 'eggs'] , num_generate=2, temperature=.5)}\")"
   ]
  },
  {
   "cell_type": "code",
   "execution_count": 106,
   "id": "c44818ac-caba-4981-ba7a-5c53f0cf583c",
   "metadata": {},
   "outputs": [
    {
     "name": "stdout",
     "output_type": "stream",
     "text": [
      "Interpreted input list as ['tofu', 'soy sauce', 'onion', 'garlic']\n",
      "Try adding: ['cumin', 'coriander']\n"
     ]
    }
   ],
   "source": [
    "print(f\"Try adding: {complete_list(model_simplified, ['tofu', 'soy sauce', 'onions', 'garlic'] , num_generate=2, temperature=.5)}\")"
   ]
  },
  {
   "cell_type": "code",
   "execution_count": 166,
   "id": "a7b966e1-917b-41bd-9b79-a3230daa6ba6",
   "metadata": {},
   "outputs": [
    {
     "name": "stdout",
     "output_type": "stream",
     "text": [
      "Interpreted input list as ['chicken', 'rosemary', 'carrot', 'thyme', 'lemon']\n",
      "Try adding: ['pine nut', 'chicken breast']\n"
     ]
    }
   ],
   "source": [
    "print(f\"Try adding: {complete_list(model_simplified, ['chicken', 'rosemary', 'carrot', 'thyme', 'lemon'] , num_generate=2, temperature=.6)}\")"
   ]
  }
 ],
 "metadata": {
  "accelerator": "GPU",
  "colab": {
   "collapsed_sections": [
    "119dca52-8efb-4ee9-a511-7d3b6d50b212",
    "953fec51-f769-4beb-93fa-06dcb0def82d",
    "b79e0cc3-0745-4b7f-8c91-bd1eed4099cc",
    "8f44c3e5-4621-4bbe-80ff-507e24999d9b",
    "87db1f26-e116-4d97-a877-35475eb8584c"
   ],
   "name": "foodSuggest.ipynb",
   "provenance": []
  },
  "gpuClass": "standard",
  "kernelspec": {
   "display_name": "Python 3 (ipykernel)",
   "language": "python",
   "name": "python3"
  },
  "language_info": {
   "codemirror_mode": {
    "name": "ipython",
    "version": 3
   },
   "file_extension": ".py",
   "mimetype": "text/x-python",
   "name": "python",
   "nbconvert_exporter": "python",
   "pygments_lexer": "ipython3",
   "version": "3.10.5"
  }
 },
 "nbformat": 4,
 "nbformat_minor": 5
}
